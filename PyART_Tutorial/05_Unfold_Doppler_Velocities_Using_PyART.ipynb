{
 "metadata": {
  "name": "",
  "signature": "sha256:5400ccf37c7e726670bdfc5efe7ecfc56d2dfaf5913329dc4f162a69c74e6ef9"
 },
 "nbformat": 3,
 "nbformat_minor": 0,
 "worksheets": [
  {
   "cells": [
    {
     "cell_type": "markdown",
     "metadata": {},
     "source": [
      "# Unfolding Doppler Velocities using Py-ART\n",
      "\n",
      "In this notebook we will examine how to correct folded Doppler velocities in an RHI sweep using Py-ART's region based dealiaser.\n",
      "\n",
      "Execute the cells below by clicking on them and hiting cltr+enter"
     ]
    },
    {
     "cell_type": "code",
     "collapsed": false,
     "input": [
      "# turn on inline plotting\n",
      "%matplotlib inline\n",
      "import matplotlib.pyplot as plt"
     ],
     "language": "python",
     "metadata": {},
     "outputs": []
    },
    {
     "cell_type": "markdown",
     "metadata": {},
     "source": [
      "Again, we need to import pyart and read in the data from the WSACR file."
     ]
    },
    {
     "cell_type": "code",
     "collapsed": false,
     "input": [
      "import pyart"
     ],
     "language": "python",
     "metadata": {},
     "outputs": []
    },
    {
     "cell_type": "code",
     "collapsed": false,
     "input": [
      "radar = pyart.io.read('data/sgpwsacrcwrhiC1.a1.20120820.204016.nc')"
     ],
     "language": "python",
     "metadata": {},
     "outputs": []
    },
    {
     "cell_type": "markdown",
     "metadata": {},
     "source": [
      "Since we are most interested in the second sweep in the radar volume, use the [`extract_sweeps`](http://arm-doe.github.io/pyart-docs-travis/user_reference/generated/pyart.core.Radar.extract_sweeps.html#pyart.core.Radar.extract_sweeps) method to create a Radar object which contains only this sweep.  This will save memory and speed up processing."
     ]
    },
    {
     "cell_type": "code",
     "collapsed": false,
     "input": [
      "radar = radar.extract_sweeps([1])"
     ],
     "language": "python",
     "metadata": {},
     "outputs": []
    },
    {
     "cell_type": "markdown",
     "metadata": {},
     "source": [
      "Create a [**RadarDisplay**](http://arm-doe.github.io/pyart-docs-travis/user_reference/generated/pyart.graph.RadarDisplay.html#pyart.graph.RadarDisplay) class and visualize the Doppler velocities."
     ]
    },
    {
     "cell_type": "code",
     "collapsed": false,
     "input": [
      "display = pyart.graph.RadarDisplay(radar)"
     ],
     "language": "python",
     "metadata": {},
     "outputs": []
    },
    {
     "cell_type": "code",
     "collapsed": false,
     "input": [
      "display.plot('mean_doppler_velocity', vmin=-4, vmax=4)"
     ],
     "language": "python",
     "metadata": {},
     "outputs": []
    },
    {
     "cell_type": "markdown",
     "metadata": {},
     "source": [
      "The colormap used in this plot is not particularly useful for visualizing the folding occuring in the velocities.  Py-ART includes colormaps which mimic those used in the [National Weather Service radar images](http://radar.weather.gov/radar.php?rid=lwx).  Using this colormap makes makes the folds more prominent.  "
     ]
    },
    {
     "cell_type": "code",
     "collapsed": false,
     "input": [
      "display.plot('mean_doppler_velocity', vmin=-4, vmax=4, cmap='pyart_NWSVel')"
     ],
     "language": "python",
     "metadata": {},
     "outputs": []
    },
    {
     "cell_type": "markdown",
     "metadata": {},
     "source": [
      "The velocities in the sweep are aliased into a small Nyquist range which is determined by the wavelength and configuration of the radar.  The smallest and largest velocities that can be measured are known as the Nyquist velocity. Velocities outside this range are folded back into this range in a process known as aliasing. This Nyquist velocity is available in the radar object's *instrument_parameter* attribute."
     ]
    },
    {
     "cell_type": "code",
     "collapsed": false,
     "input": [
      "radar.instrument_parameters['nyquist_velocity']['data'][0]"
     ],
     "language": "python",
     "metadata": {},
     "outputs": []
    },
    {
     "cell_type": "code",
     "collapsed": false,
     "input": [
      "print radar.instrument_parameters['nyquist_velocity']['units']"
     ],
     "language": "python",
     "metadata": {},
     "outputs": []
    },
    {
     "cell_type": "markdown",
     "metadata": {},
     "source": [
      "---\n",
      "All the Doppler velocities in the sweep are aliased into the range of -3.96 to 3.96 m/s.  Py-ART offers a [number of algorithms](http://arm-doe.github.io/pyart-docs-travis/user_reference/correct.html) to unfold or de-alias these velocities.  We will use one of the more robust algorithms which operates by finding regions of similar velocities and unfolding these regions against each other (see the poster titled \"Dealiasing Radar Doppler Velocities Using Two Novel Unfolding Algorithm\" for additional details).\n",
      "\n",
      "First we need to define a filter which specifies which gates or points in the sweep should be de-aliased.  Gates which contain only noise should not be de-aliased so we will exclude them."
     ]
    },
    {
     "cell_type": "code",
     "collapsed": false,
     "input": [
      "display.plot('snr', vmin=-20, vmax=30)"
     ],
     "language": "python",
     "metadata": {},
     "outputs": []
    },
    {
     "cell_type": "markdown",
     "metadata": {},
     "source": [
      "An SNR ratio of -5 seems to be a good lower threshold.  "
     ]
    },
    {
     "cell_type": "code",
     "collapsed": false,
     "input": [
      "display.plot('snr', vmin=-5, vmax=30, mask_outside=True)"
     ],
     "language": "python",
     "metadata": {},
     "outputs": []
    },
    {
     "cell_type": "markdown",
     "metadata": {},
     "source": [
      "Create the gatefilter with this threshold using the [**GateFilter**](http://arm-doe.github.io/pyart-docs-travis/user_reference/generated/pyart.correct.GateFilter.html#pyart.correct.GateFilter) class and the [`exclude_below`](http://arm-doe.github.io/pyart-docs-travis/user_reference/generated/pyart.correct.GateFilter.exclude_below.html#pyart.correct.GateFilter.exclude_below) method."
     ]
    },
    {
     "cell_type": "code",
     "collapsed": false,
     "input": [
      "gatefilter = pyart.correct.GateFilter(radar)\n",
      "gatefilter.exclude_below('snr', -5)"
     ],
     "language": "python",
     "metadata": {},
     "outputs": []
    },
    {
     "cell_type": "markdown",
     "metadata": {},
     "source": [
      "Perform the unfolding using the [`dealias_region_based`](http://arm-doe.github.io/pyart-docs-travis/user_reference/generated/pyart.correct.dealias_region_based.html#pyart.correct.dealias_region_based) function.  As this sweep is quite noisy, set the *skip_along_ray* and *skip_between_rays* parameters large so regions surrounded by excluded gates are still treated as being connected to nearby regions."
     ]
    },
    {
     "cell_type": "code",
     "collapsed": false,
     "input": [
      "corr_vel = pyart.correct.dealias_region_based(\n",
      "    radar, vel_field='mean_doppler_velocity', keep_original=False,\n",
      "    gatefilter=gatefilter, skip_along_ray=100, skip_between_rays=100)"
     ],
     "language": "python",
     "metadata": {},
     "outputs": []
    },
    {
     "cell_type": "markdown",
     "metadata": {},
     "source": [
      "Finally, add this new field of unfolded velocities to the radar object using the [`add_field`](http://arm-doe.github.io/pyart-docs-travis/user_reference/generated/pyart.core.Radar.add_field.html#pyart.core.Radar.add_field) method and plot the results."
     ]
    },
    {
     "cell_type": "code",
     "collapsed": false,
     "input": [
      "radar.add_field('corrected_mean_doppler_velocity', corr_vel, True)"
     ],
     "language": "python",
     "metadata": {},
     "outputs": []
    },
    {
     "cell_type": "code",
     "collapsed": false,
     "input": [
      "display.plot('corrected_mean_doppler_velocity', vmin=-24, vmax=24, cmap='pyart_NWSVel')"
     ],
     "language": "python",
     "metadata": {},
     "outputs": []
    },
    {
     "cell_type": "markdown",
     "metadata": {},
     "source": [
      "Plotting the raw and corrected velocities next to each other for easy comparison."
     ]
    },
    {
     "cell_type": "code",
     "collapsed": false,
     "input": [
      "fig = plt.figure(figsize=(14, 4))\n",
      "fig.add_subplot(121)\n",
      "display.plot('mean_doppler_velocity', vmin=-4, vmax=4, cmap='pyart_NWSVel',\n",
      "             title='raw velocities', colorbar_label='m/s')\n",
      "fig.add_subplot(122)\n",
      "display.plot('corrected_mean_doppler_velocity', vmin=-24, vmax=24, cmap='pyart_NWSVel',\n",
      "             title='corrected velocities', colorbar_label='m/s')"
     ],
     "language": "python",
     "metadata": {},
     "outputs": []
    },
    {
     "cell_type": "markdown",
     "metadata": {},
     "source": [
      "This concludes the Py-ART tutorial.  For additional information on Py-ART including in-depth documentation, examples and information of contributing to the package visit the [Py-ART landing page](http://arm-doe.github.io/pyart/)."
     ]
    }
   ],
   "metadata": {}
  }
 ]
}