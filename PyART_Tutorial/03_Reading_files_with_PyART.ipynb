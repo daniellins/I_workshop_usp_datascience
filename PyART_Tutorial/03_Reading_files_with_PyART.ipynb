{
 "metadata": {
  "name": "",
  "signature": "sha256:682b970e0016aeb280c99d7566665cff95588ab3fbb4c5beb195a9b5f7717637"
 },
 "nbformat": 3,
 "nbformat_minor": 0,
 "worksheets": [
  {
   "cells": [
    {
     "cell_type": "markdown",
     "metadata": {},
     "source": [
      "# Reading radar files with Py-ART and the Radar object\n",
      "\n",
      "In this notebook, we will examine how to read radar files in Py-ART and how Py-ART stores radar volumes.  For this we will be examining a file from the W-band Scanning ARM Cloud Radar ([WSACR](http://www.arm.gov/instruments/wsacr)).  This file is formatted to meet the [CfRadial](http://www.ral.ucar.edu/projects/titan/docs/radial_formats/cfradial.html) file format specification.\n",
      "\n",
      "In addition to reading CfRadial files from any of the ARM SACR radars, Py-ART is also capable of reading radar data in other formats:\n",
      "    \n",
      "* Sigmet/IRIS, raw files from the ARM [XSAPR](http://www.arm.gov/instruments/xsapr) radars.\n",
      "* MDV, raw files from the ARM [CSAPR](http://www.arm.gov/instruments/csapr) radars.\n",
      "* GAMIC HDF5, raw format of the ARM XSAPR2 and CSAPR2 radars.\n",
      "* NEXRAD level 2, available from [NCDC](http://www.arm.gov/instruments/csapr).\n",
      "* Files from the [CSU-CHILL](http://www.chill.colostate.edu/w/CSU_CHILL) radar. \n",
      "* Any format supported by [NASA's TRMM RSL](http://trmm-fc.gsfc.nasa.gov/trmm_gv/software/rsl/) library or [RadX](http://www.ral.ucar.edu/projects/titan/docs/radial_formats/radx.html).\n",
      "\n",
      "\n",
      "Execute the cells below by clicking on them and hiting cltr+enter\n"
     ]
    },
    {
     "cell_type": "code",
     "collapsed": false,
     "input": [
      "# turn on inline plotting\n",
      "%matplotlib inline\n",
      "import matplotlib.pyplot as plt"
     ],
     "language": "python",
     "metadata": {},
     "outputs": []
    },
    {
     "cell_type": "markdown",
     "metadata": {},
     "source": [
      "First, we need to import Py-ART. This allows us to use the included routines to read in data from netCDF file."
     ]
    },
    {
     "cell_type": "code",
     "collapsed": false,
     "input": [
      "import pyart"
     ],
     "language": "python",
     "metadata": {},
     "outputs": []
    },
    {
     "cell_type": "code",
     "collapsed": false,
     "input": [
      "radar = pyart.io.read('data/sgpwsacrcwrhiC1.a1.20120820.204016.nc')"
     ],
     "language": "python",
     "metadata": {},
     "outputs": []
    },
    {
     "cell_type": "markdown",
     "metadata": {},
     "source": [
      "---\n",
      "We have just created a [**Radar**](http://arm-doe.github.io/pyart-docs-travis/user_reference/generated/pyart.core.Radar.html#pyart.core.Radar) object which is the class Py-ART uses to store and process radar volume data.  Python's built in help system can be used to provide information about this object."
     ]
    },
    {
     "cell_type": "code",
     "collapsed": false,
     "input": [
      "type(radar)"
     ],
     "language": "python",
     "metadata": {},
     "outputs": []
    },
    {
     "cell_type": "code",
     "collapsed": false,
     "input": [
      "help(radar)"
     ],
     "language": "python",
     "metadata": {},
     "outputs": []
    },
    {
     "cell_type": "markdown",
     "metadata": {},
     "source": [
      "We can also use IPython's help system."
     ]
    },
    {
     "cell_type": "code",
     "collapsed": false,
     "input": [
      "radar?"
     ],
     "language": "python",
     "metadata": {},
     "outputs": []
    },
    {
     "cell_type": "markdown",
     "metadata": {},
     "source": [
      "---\n",
      "This tells us about the Radar class in general.  We can use the [`info`](http://arm-doe.github.io/pyart-docs-travis/user_reference/generated/pyart.core.Radar.extract_sweeps.html#pyart.core.Radar.extract_sweeps) method to describe the data in the WSACR file we have just read. "
     ]
    },
    {
     "cell_type": "code",
     "collapsed": false,
     "input": [
      "radar.info('compact')\n",
      "# try out 'standard' or 'full' also "
     ],
     "language": "python",
     "metadata": {},
     "outputs": []
    },
    {
     "cell_type": "markdown",
     "metadata": {},
     "source": [
      "---\n",
      "For convenience the *radar_info* command can provide this data from a command line."
     ]
    },
    {
     "cell_type": "code",
     "collapsed": false,
     "input": [
      "# ! indicate that a command will be execute from a shell not IPython\n",
      "# The results are printed here. \n",
      "!radar_info --compact data/sgpwsacrcwrhiC1.a1.20120820.204016.nc"
     ],
     "language": "python",
     "metadata": {},
     "outputs": []
    },
    {
     "cell_type": "markdown",
     "metadata": {},
     "source": [
      "---\n",
      "Notice that from the above infomation we are looking at a Range Height Indicator or RHI scan.  This means for each sweep in the volume the azimuth angle is fixed and the radar samples a number of elevation angles.  The information on these elevation angles is stored in the **elevation** attribute as a Python dictionary."
     ]
    },
    {
     "cell_type": "code",
     "collapsed": false,
     "input": [
      "type(radar.elevation)"
     ],
     "language": "python",
     "metadata": {},
     "outputs": []
    },
    {
     "cell_type": "code",
     "collapsed": false,
     "input": [
      "radar.elevation.keys()"
     ],
     "language": "python",
     "metadata": {},
     "outputs": []
    },
    {
     "cell_type": "code",
     "collapsed": false,
     "input": [
      "print radar.elevation['long_name']\n",
      "print radar.elevation['standard_name']\n",
      "print radar.elevation['units']"
     ],
     "language": "python",
     "metadata": {},
     "outputs": []
    },
    {
     "cell_type": "code",
     "collapsed": false,
     "input": [
      "radar.elevation['data']"
     ],
     "language": "python",
     "metadata": {},
     "outputs": []
    },
    {
     "cell_type": "markdown",
     "metadata": {},
     "source": [
      "We can plot the elevation angles for all the sweeps in the volume."
     ]
    },
    {
     "cell_type": "code",
     "collapsed": false,
     "input": [
      "plt.plot(radar.elevation['data'])"
     ],
     "language": "python",
     "metadata": {},
     "outputs": []
    },
    {
     "cell_type": "markdown",
     "metadata": {},
     "source": [
      "By counting the local extrema in the graph, this volume appears to contain 17 sweeps.  We can check to see that this agrees with the number of sweeps reported by the file:"
     ]
    },
    {
     "cell_type": "code",
     "collapsed": false,
     "input": [
      "radar.nsweeps"
     ],
     "language": "python",
     "metadata": {},
     "outputs": []
    },
    {
     "cell_type": "markdown",
     "metadata": {},
     "source": [
      "---\n",
      "Sweeps are typically the unit of radar data that we want to work with.  The indices which delinate a particular sweep are stored in the **sweep_start_ray_index** and **sweep_end_ray_index** attributes of the radar object.  Using these to access sweep data can be cumbersome and care must be taken to avoid off-by-one errors.  For convenience the Radar object provides a [`get_slice`](http://arm-doe.github.io/pyart-docs-travis/user_reference/generated/pyart.core.Radar.get_slice.html#pyart.core.Radar.get_slice) method which returns a slice object that can be used to select out the rays belonging to a particular sweep."
     ]
    },
    {
     "cell_type": "code",
     "collapsed": false,
     "input": [
      "radar.get_slice?"
     ],
     "language": "python",
     "metadata": {},
     "outputs": []
    },
    {
     "cell_type": "markdown",
     "metadata": {},
     "source": [
      "---\n",
      "Using this functionality to plot the elevation angles from the first two sweeps in the volume."
     ]
    },
    {
     "cell_type": "code",
     "collapsed": false,
     "input": [
      "sweep_0_slice = radar.get_slice(0)\n",
      "plt.plot(radar.elevation['data'][sweep_0_slice])"
     ],
     "language": "python",
     "metadata": {},
     "outputs": []
    },
    {
     "cell_type": "code",
     "collapsed": false,
     "input": [
      "sweep_1_slice = radar.get_slice(1)\n",
      "plt.plot(radar.elevation['data'][sweep_1_slice])"
     ],
     "language": "python",
     "metadata": {},
     "outputs": []
    },
    {
     "cell_type": "markdown",
     "metadata": {},
     "source": [
      "---\n",
      "The radar fields or moments are stored in the **fields** attribute as a dictionary of dictionaries.  "
     ]
    },
    {
     "cell_type": "code",
     "collapsed": false,
     "input": [
      "radar.fields.keys()"
     ],
     "language": "python",
     "metadata": {},
     "outputs": []
    },
    {
     "cell_type": "code",
     "collapsed": false,
     "input": [
      "type(radar.fields['reflectivity'])"
     ],
     "language": "python",
     "metadata": {},
     "outputs": []
    },
    {
     "cell_type": "code",
     "collapsed": false,
     "input": [
      "radar.fields['reflectivity'].keys()"
     ],
     "language": "python",
     "metadata": {},
     "outputs": []
    },
    {
     "cell_type": "code",
     "collapsed": false,
     "input": [
      "print radar.fields['reflectivity']['standard_name']\n",
      "print radar.fields['reflectivity']['units']\n",
      "print radar.fields['reflectivity']['coordinates']"
     ],
     "language": "python",
     "metadata": {},
     "outputs": []
    },
    {
     "cell_type": "markdown",
     "metadata": {},
     "source": [
      "---\n",
      "Plotting this data in a b-scan representation."
     ]
    },
    {
     "cell_type": "code",
     "collapsed": false,
     "input": [
      "plt.figure(figsize=(20, 10))\n",
      "plt.imshow(radar.fields['reflectivity']['data'], aspect=0.1, origin='bottom')\n",
      "plt.xlabel('range gate')\n",
      "plt.ylabel('ray number')"
     ],
     "language": "python",
     "metadata": {},
     "outputs": []
    },
    {
     "cell_type": "markdown",
     "metadata": {},
     "source": [
      "---\n",
      "Using the sweep slice object to look at only the second sweep."
     ]
    },
    {
     "cell_type": "code",
     "collapsed": false,
     "input": [
      "plt.figure(figsize=(10, 10))\n",
      "plt.imshow(radar.fields['reflectivity']['data'][sweep_1_slice], aspect=0.5, origin='bottom')\n",
      "plt.xlabel('range gate')\n",
      "plt.ylabel('ray number')"
     ],
     "language": "python",
     "metadata": {},
     "outputs": []
    },
    {
     "cell_type": "markdown",
     "metadata": {},
     "source": [
      "---\n",
      "This is not the most helpful way to plot sweep data when we want to see what is going on in the atmosphere.  We need is to take into account the radar pointing data to create a better plot.  For that, we will move to the next Notebook. "
     ]
    }
   ],
   "metadata": {}
  }
 ]
}