{
 "metadata": {
  "name": "",
  "signature": "sha256:60be02921547d416e09091de933b1acd4a806f207f3983a7d64738d761f72531"
 },
 "nbformat": 3,
 "nbformat_minor": 0,
 "worksheets": [
  {
   "cells": [
    {
     "cell_type": "markdown",
     "metadata": {},
     "source": [
      "# Plotting radar data with Py-ART.\n",
      "\n",
      "In this notebook we will examine how to plot sweeps from a RHI volume using Py-ART.  Sweeps from PPI scans and VPT volumes can be visualized in the same manner using Py-ART.\n",
      "\n",
      "Execute the cells below by clicking on them and hiting cltr+enter"
     ]
    },
    {
     "cell_type": "code",
     "collapsed": false,
     "input": [
      "# turn on plotting\n",
      "%matplotlib inline\n",
      "import matplotlib.pyplot as plt"
     ],
     "language": "python",
     "metadata": {},
     "outputs": []
    },
    {
     "cell_type": "markdown",
     "metadata": {},
     "source": [
      "We begin by importing pyart and reading in the data from the WSACR file used in the last notebook."
     ]
    },
    {
     "cell_type": "code",
     "collapsed": false,
     "input": [
      "import pyart"
     ],
     "language": "python",
     "metadata": {},
     "outputs": []
    },
    {
     "cell_type": "code",
     "collapsed": false,
     "input": [
      "radar = pyart.io.read('data/sgpwsacrcwrhiC1.a1.20120820.204016.nc') "
     ],
     "language": "python",
     "metadata": {},
     "outputs": []
    },
    {
     "cell_type": "markdown",
     "metadata": {},
     "source": [
      "Recall that the **fields** attribute is a dictionary of dictionaries containing the radar fields or moments."
     ]
    },
    {
     "cell_type": "code",
     "collapsed": false,
     "input": [
      "radar.fields.keys()"
     ],
     "language": "python",
     "metadata": {},
     "outputs": []
    },
    {
     "cell_type": "markdown",
     "metadata": {},
     "source": [
      "Py-ART provides the [**RadarDisplay**](http://arm-doe.github.io/pyart-docs-travis/user_reference/generated/pyart.graph.RadarDisplay.html#pyart.graph.RadarDisplay) class for plotting radar data taking into account the pointing data.  Create an radardisplay object for the WSACR radar data. "
     ]
    },
    {
     "cell_type": "code",
     "collapsed": false,
     "input": [
      "display = pyart.graph.RadarDisplay(radar)"
     ],
     "language": "python",
     "metadata": {},
     "outputs": []
    },
    {
     "cell_type": "markdown",
     "metadata": {},
     "source": [
      "We can use IPython's help system to learn more about this class."
     ]
    },
    {
     "cell_type": "code",
     "collapsed": false,
     "input": [
      "display?"
     ],
     "language": "python",
     "metadata": {},
     "outputs": []
    },
    {
     "cell_type": "markdown",
     "metadata": {},
     "source": [
      "The [`plot`](http://arm-doe.github.io/pyart-docs-travis/user_reference/generated/pyart.graph.RadarDisplay.plot.html#pyart.graph.RadarDisplay.plot) method of the RadarDisplay class is used for creating plots of radar data."
     ]
    },
    {
     "cell_type": "code",
     "collapsed": false,
     "input": [
      "display.plot?"
     ],
     "language": "python",
     "metadata": {},
     "outputs": []
    },
    {
     "cell_type": "markdown",
     "metadata": {},
     "source": [
      "From the help text we see that this is a convenience function which calls the appropiate plotting function depending on the scan type of the radar volume.  The WASCR example we are looking at is a RHI scan which will use the [`plot_rhi`](http://arm-doe.github.io/pyart-docs-travis/user_reference/generated/pyart.graph.RadarDisplay.plot_rhi.html#pyart.graph.RadarDisplay.plot_rhi) method."
     ]
    },
    {
     "cell_type": "code",
     "collapsed": false,
     "input": [
      "display.plot_rhi?"
     ],
     "language": "python",
     "metadata": {},
     "outputs": []
    },
    {
     "cell_type": "markdown",
     "metadata": {},
     "source": [
      "Using the [`plot`](http://arm-doe.github.io/pyart-docs-travis/user_reference/generated/pyart.graph.RadarDisplay.plot.html#pyart.graph.RadarDisplay.plot) method to visualize the reflectivity data from the second sweep in the WSACR radar volume."
     ]
    },
    {
     "cell_type": "code",
     "collapsed": false,
     "input": [
      "display.plot('reflectivity', sweep=1, vmin=-32, vmax=20)"
     ],
     "language": "python",
     "metadata": {},
     "outputs": []
    },
    {
     "cell_type": "markdown",
     "metadata": {},
     "source": [
      "For convenience this functionality is also available from the command line using the *radar_plot* command.  The results of this command may be different depending on the configuration of your system.  In many cases, a window will pop up containing the visualization."
     ]
    },
    {
     "cell_type": "code",
     "collapsed": false,
     "input": [
      "!radar_plot --tilt=1 --vmin=-32 --vmax=20 data/sgpwsacrcwrhiC1.a1.20120820.204016.nc reflectivity"
     ],
     "language": "python",
     "metadata": {},
     "outputs": []
    },
    {
     "cell_type": "markdown",
     "metadata": {},
     "source": [
      "Zooming in on an interesting region of this plot can be accomplished using the [`set_limits`](http://arm-doe.github.io/pyart-docs-travis/user_reference/generated/pyart.graph.RadarDisplay.set_limits.html#pyart.graph.RadarDisplay.set_limits) method. "
     ]
    },
    {
     "cell_type": "code",
     "collapsed": false,
     "input": [
      "display.plot('reflectivity', sweep=1, vmin=-32, vmax=20)\n",
      "display.set_limits(ylim=(7, 12), xlim=(-18, -10))"
     ],
     "language": "python",
     "metadata": {},
     "outputs": []
    },
    {
     "cell_type": "markdown",
     "metadata": {},
     "source": [
      "Plotting the other radar moments is done in the same manner.  Feel free to adjust the luminosity limits by chaning vmin or vmax to your liking."
     ]
    },
    {
     "cell_type": "code",
     "collapsed": false,
     "input": [
      "display.plot('spectral_width', sweep=1, vmin=0, vmax=0.4)"
     ],
     "language": "python",
     "metadata": {},
     "outputs": []
    },
    {
     "cell_type": "code",
     "collapsed": false,
     "input": [
      "display.plot('snr', sweep=1, vmin=-20, vmax=30)"
     ],
     "language": "python",
     "metadata": {},
     "outputs": []
    },
    {
     "cell_type": "code",
     "collapsed": false,
     "input": [
      "display.plot('linear_depolarization_ratio', sweep=1, vmin=-30, vmax=0)"
     ],
     "language": "python",
     "metadata": {},
     "outputs": []
    },
    {
     "cell_type": "code",
     "collapsed": false,
     "input": [
      "display.plot('mean_doppler_velocity', sweep=1, vmin=-4, vmax=4)"
     ],
     "language": "python",
     "metadata": {},
     "outputs": []
    },
    {
     "cell_type": "markdown",
     "metadata": {},
     "source": [
      "The Doppler velocities in this sweep are significantly aliased into the small Nyquist range.  In the next Notebook, we will see that Py-ART can be used to unfold these velocities."
     ]
    }
   ],
   "metadata": {}
  }
 ]
}