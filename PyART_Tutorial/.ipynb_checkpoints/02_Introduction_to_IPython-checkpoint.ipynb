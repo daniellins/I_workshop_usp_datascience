{
 "cells": [
  {
   "cell_type": "markdown",
   "metadata": {},
   "source": [
    "\n",
    "\n",
    "What you are looking at is an [IPython Notebook](http://ipython.org/notebook.html), a web-based interactive computation enviroment well suited for creating and sharing examples of scientific Python computations.\n",
    "\n",
    "<img class=\"logo\" src=\"images/ipython_logo.png\" height=100 />\n",
    "\n",
    "One of the key features of IPython notebooks is that Python code can be written and executed in cells. \n",
    "\n",
    "Click on the next cell and press ctrl+enter to execute the Python code.\n"
   ]
  },
  {
   "cell_type": "code",
   "execution_count": null,
   "metadata": {
    "collapsed": false
   },
   "outputs": [],
   "source": [
    "# This is a Python comment\n",
    "# the next line is a line of Python code\n",
    "print \"Hello World!\""
   ]
  },
  {
   "cell_type": "markdown",
   "metadata": {},
   "source": [
    "---\n",
    "Cells can also be used to create textual materials using the markup language [Markdown](http://en.wikipedia.org/wiki/Markdown).  \n",
    "\n",
    "Double click on this cell (or any others) to see the raw markdown which produces the nicely formatted text."
   ]
  },
  {
   "cell_type": "markdown",
   "metadata": {},
   "source": [
    "---\n",
    "One of the reasons IPython Notebooks are so well suited for scientific Python work is that IPython is well integrated into the [Scientific Python ecosystem](http://www.scipy.org/).  For example, plots can be included in notebooks for visualizing data.  Execute the next two cells (using ctrl+enter)"
   ]
  },
  {
   "cell_type": "code",
   "execution_count": 1,
   "metadata": {
    "collapsed": false
   },
   "outputs": [],
   "source": [
    "# These two lines turn on inline plotting \n",
    "%matplotlib inline\n",
    "import matplotlib.pyplot as plt"
   ]
  },
  {
   "cell_type": "code",
   "execution_count": 2,
   "metadata": {
    "collapsed": false
   },
   "outputs": [
    {
     "data": {
      "text/plain": [
       "[<matplotlib.lines.Line2D at 0x7fd9340e8310>]"
      ]
     },
     "execution_count": 2,
     "metadata": {},
     "output_type": "execute_result"
    },
    {
     "data": {
      "image/png": "[encoded data removed]",
      "text/plain": [
       "<matplotlib.figure.Figure at 0x7fd93613ec10>"
      ]
     },
     "metadata": {},
     "output_type": "display_data"
    }
   ],
   "source": [
    "plt.plot([1,2,3])"
   ]
  },
  {
   "cell_type": "markdown",
   "metadata": {},
   "source": [
    "---\n",
    "We will be using IPython notebooks for all the course materials so that you can interactively run Py-ART examples and play with data"
   ]
  },
  {
   "cell_type": "markdown",
   "metadata": {},
   "source": [
    "---\n",
    "IPython has a number of additional features and uses which are outside the scope of this introduction.  To learn more, see the IPython [documentation](http://ipython.org/ipython-doc/stable/notebook/index.html), look at some [examples](http://nbviewer.ipython.org/github/ipython/ipython/blob/2.x/examples/Notebook/Index.ipynb), or checkout the [gallery](https://github.com/ipython/ipython/wiki/A-gallery-of-interesting-IPython-Notebooks) of interesting notebooks."
   ]
  }
 ],
 "metadata": {
  "kernelspec": {
   "display_name": "Python 2",
   "language": "python",
   "name": "python2"
  },
  "language_info": {
   "codemirror_mode": {
    "name": "ipython",
    "version": 2
   },
   "file_extension": ".py",
   "mimetype": "text/x-python",
   "name": "python",
   "nbconvert_exporter": "python",
   "pygments_lexer": "ipython2",
   "version": "2.7.10"
  }
 },
 "nbformat": 4,
 "nbformat_minor": 0
}
