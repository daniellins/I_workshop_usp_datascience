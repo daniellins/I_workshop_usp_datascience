{
 "cells": [
  {
   "cell_type": "markdown",
   "metadata": {},
   "source": [
    "# Python Basics\n",
    "\n",
    "\n",
    "November 2015\n",
    "\n",
    "by Daniel Lins da Silva - daniel.lins (at) gmail.com\n",
    "\n",
    "---\n",
    "\n",
    "- [Python Files](#Python-files)\n",
    "- [Modules](#Modules)\n",
    "- [Comments](#Comments)\n",
    "- [Variables](#Variables)\n",
    "- [Data Types](#Data-Types)\n",
    "- [Python: Hello World!](#Python-Hello-World!)\n",
    "- [A Complete Script in Python](#A-complete-script-in-Python)\n",
    "- [References](#References)"
   ]
  },
  {
   "cell_type": "markdown",
   "metadata": {},
   "source": [
    "## Python Files\n",
    "---\n",
    "* Python code is usually stored in text files with the file ending \"`.py`\":\n",
    "\n",
    "        myprogram.py\n",
    "\n",
    "* To run our Python program from the command line we use:\n",
    "\n",
    "        $ python myprogram.py\n",
    "\n",
    "* On UNIX systems it is common to define the path to the interpreter on the first line of the program (note that this is a comment line as far as the Python interpreter is concerned):\n",
    "\n",
    "        #!/usr/bin/env python\n",
    "\n",
    "  If we do, and if we additionally set the file script to be executable, we can run the program like this:\n",
    "\n",
    "        $ myprogram.py\n",
    "        \n",
    "        \n",
    "* Python Program Execution in other environments:\n",
    "    - IDEs: play button\n",
    "    - IPython (Jupyter): `run script.py` or `!python script.py`"
   ]
  },
  {
   "cell_type": "markdown",
   "metadata": {},
   "source": [
    "### Character encoding\n",
    "The standard character encoding is ASCII, but we can use any other encoding, for example UTF-8. To specify that UTF-8 is used we include the special line\n",
    "\n",
    "`#  -*- coding: UTF-8 -*-`\n",
    "\n",
    "at the top of the file.\n",
    "\n",
    "** With Python 3.x this special line is not required.**\n"
   ]
  },
  {
   "cell_type": "markdown",
   "metadata": {},
   "source": [
    "## Modules\n",
    "---\n",
    "Most of the functionality in Python is provided by modules. The Python Standard Library is a large collection of modules that provides cross-platform implementations of common facilities such as access to the operating system, file I/O, string management, network communication, and much more.\n",
    "\n",
    "### Good References\n",
    " * The Python Language Reference: http://docs.python.org/2/reference/index.html\n",
    " * The Python Standard Library: http://docs.python.org/2/library/\n",
    "\n",
    "To use a module in a Python program it first has to be imported. A module can be imported using the `import` statement. For example, to import the module `math`, which contains many standard mathematical functions, we can do:"
   ]
  },
  {
   "cell_type": "markdown",
   "metadata": {},
   "source": [
    "### Import Statement\n",
    "\n"
   ]
  },
  {
   "cell_type": "code",
   "execution_count": 117,
   "metadata": {
    "collapsed": true
   },
   "outputs": [],
   "source": [
    "import math"
   ]
  },
  {
   "cell_type": "markdown",
   "metadata": {},
   "source": [
    "This includes the whole module and makes it available for use later in the program. For example, we can do:"
   ]
  },
  {
   "cell_type": "code",
   "execution_count": 119,
   "metadata": {
    "collapsed": false
   },
   "outputs": [
    {
     "name": "stdout",
     "output_type": "stream",
     "text": [
      "1.0\n"
     ]
    }
   ],
   "source": [
    "import math\n",
    "\n",
    "x = math.cos(2 * math.pi)\n",
    "\n",
    "print x"
   ]
  },
  {
   "cell_type": "markdown",
   "metadata": {},
   "source": [
    "Alternatively, we can chose to import all symbols (functions and variables) in a module to the current namespace (so that we don't need to use the prefix \"math.\" every time we use something from the math module:\n"
   ]
  },
  {
   "cell_type": "code",
   "execution_count": 122,
   "metadata": {
    "collapsed": false
   },
   "outputs": [
    {
     "name": "stdout",
     "output_type": "stream",
     "text": [
      "1.0\n"
     ]
    }
   ],
   "source": [
    "from math import *\n",
    "\n",
    "x = cos(2 * pi)\n",
    "\n",
    "print x"
   ]
  },
  {
   "cell_type": "markdown",
   "metadata": {},
   "source": [
    "This pattern can be very convenient, but in large programs that include many modules it is often a good idea to keep the symbols from each module in their own namespaces, by using the import math pattern. This would eliminate potentially confusing problems with name space collisions.\n",
    "\n",
    "As a third alternative, we can chose to import only a few selected symbols from a module by explicitly listing which ones we want to import instead of using the wildcard character *:\n"
   ]
  },
  {
   "cell_type": "code",
   "execution_count": 101,
   "metadata": {
    "collapsed": true
   },
   "outputs": [],
   "source": [
    "from math import pi, cos"
   ]
  },
  {
   "cell_type": "markdown",
   "metadata": {},
   "source": [
    "## Comments\n",
    "---\n",
    "\n",
    "Every line in a Python program file is assumed to be a Python statement, or part thereof. \n",
    "\n",
    "  * The only exception is comment lines, which start with the character `#` (optionally preceded by an arbitrary number of white-space characters, i.e., tabs or spaces). Comment lines are usually ignored by the Python interpreter."
   ]
  },
  {
   "cell_type": "code",
   "execution_count": 102,
   "metadata": {
    "collapsed": false
   },
   "outputs": [
    {
     "name": "stdout",
     "output_type": "stream",
     "text": [
      "-1.0\n"
     ]
    }
   ],
   "source": [
    "# This is a comment\n",
    "# It's ignored by the python interpreter\n",
    "\n",
    "print cos(pi) # this is also ignored"
   ]
  },
  {
   "cell_type": "markdown",
   "metadata": {},
   "source": [
    "## Variables\n",
    "---\n",
    "### Symbol names\n",
    "* Variable names in Python can contain:\n",
    "    - alphanumerical characters a-z, A-Z, 0-9\n",
    "    - Undescore _\n",
    "* Cannot be a `keyword`\n",
    "    \n",
    "        and, as, assert, break, class, continue, def, del, elif, else, except, \n",
    "        exec, finally, for, from, global, if, import, in, is, lambda, not, or,\n",
    "        pass, print, raise, return, try, while, with, yield\n",
    "        \n",
    "* Name Conventions:\n",
    "    - variables, modules and functions: lowercase with words separated by underscores as necessary.\n",
    "    - constants: All capital letters with underscores separating words.\n",
    "    - classes: Use the CapWords convention.\n",
    "** More info in the Style Guide for Python Code ([PEP 008](https://www.python.org/dev/peps/pep-0008/)) **\n",
    "    "
   ]
  },
  {
   "cell_type": "markdown",
   "metadata": {},
   "source": [
    "### Assignment\n",
    "The assignment operator in Python is `=`. Python is a **dynamically typed language**, so we do not need to specify the type of a variable when we create one.\n",
    "\n",
    "Assigning a value to a new variable creates the variable:"
   ]
  },
  {
   "cell_type": "code",
   "execution_count": 103,
   "metadata": {
    "collapsed": false
   },
   "outputs": [
    {
     "name": "stdout",
     "output_type": "stream",
     "text": [
      "Puma concolor\n"
     ]
    }
   ],
   "source": [
    "scientific_name = \"Puma concolor\"\n",
    "print scientific_name"
   ]
  },
  {
   "cell_type": "markdown",
   "metadata": {},
   "source": [
    "## Data Types\n",
    "---\n",
    "Dynamically typed language: Type is determined at assigment."
   ]
  },
  {
   "cell_type": "code",
   "execution_count": 137,
   "metadata": {
    "collapsed": true
   },
   "outputs": [],
   "source": [
    "numerical_value = 2\n",
    "decimal_value = 2.5\n",
    "bool_value = True\n",
    "string_value = \"Comments about a event.\""
   ]
  },
  {
   "cell_type": "code",
   "execution_count": 136,
   "metadata": {
    "collapsed": false
   },
   "outputs": [
    {
     "name": "stdout",
     "output_type": "stream",
     "text": [
      "<type 'int'>\n",
      "<type 'float'>\n",
      "<type 'bool'>\n",
      "<type 'str'>\n"
     ]
    }
   ],
   "source": [
    "print type(numerical_value)\n",
    "print type(decimal_value)\n",
    "print type(bool_value)\n",
    "print type(string_value)"
   ]
  },
  {
   "cell_type": "code",
   "execution_count": 134,
   "metadata": {
    "collapsed": false
   },
   "outputs": [
    {
     "data": {
      "text/plain": [
       "True"
      ]
     },
     "execution_count": 134,
     "metadata": {},
     "output_type": "execute_result"
    }
   ],
   "source": [
    "x = 1\n",
    "type(x) is int"
   ]
  },
  {
   "cell_type": "markdown",
   "metadata": {},
   "source": [
    "We can also use the `isinstance` method for testing types of variables:"
   ]
  },
  {
   "cell_type": "code",
   "execution_count": 135,
   "metadata": {
    "collapsed": false
   },
   "outputs": [
    {
     "data": {
      "text/plain": [
       "True"
      ]
     },
     "execution_count": 135,
     "metadata": {},
     "output_type": "execute_result"
    }
   ],
   "source": [
    "x = 1\n",
    "isinstance(x, int)"
   ]
  },
  {
   "cell_type": "markdown",
   "metadata": {},
   "source": [
    "### Type Casting\n",
    "---"
   ]
  },
  {
   "cell_type": "code",
   "execution_count": 106,
   "metadata": {
    "collapsed": false
   },
   "outputs": [
    {
     "name": "stdout",
     "output_type": "stream",
     "text": [
      "2.0\n",
      "2\n",
      "True\n"
     ]
    }
   ],
   "source": [
    "print float(numerical_value) \n",
    "print int(decimal_value) \n",
    "print str(bool_value)"
   ]
  },
  {
   "cell_type": "code",
   "execution_count": 138,
   "metadata": {
    "collapsed": false
   },
   "outputs": [
    {
     "ename": "ValueError",
     "evalue": "could not convert string to float: Comments about a event.",
     "output_type": "error",
     "traceback": [
      "\u001b[1;31m---------------------------------------------------------------------------\u001b[0m",
      "\u001b[1;31mValueError\u001b[0m                                Traceback (most recent call last)",
      "\u001b[1;32m<ipython-input-138-3f6b572f8df3>\u001b[0m in \u001b[0;36m<module>\u001b[1;34m()\u001b[0m\n\u001b[1;32m----> 1\u001b[1;33m \u001b[1;32mprint\u001b[0m \u001b[0mfloat\u001b[0m\u001b[1;33m(\u001b[0m\u001b[0mstring_value\u001b[0m\u001b[1;33m)\u001b[0m\u001b[1;33m\u001b[0m\u001b[0m\n\u001b[0m",
      "\u001b[1;31mValueError\u001b[0m: could not convert string to float: Comments about a event."
     ]
    }
   ],
   "source": [
    "print float(string_value)"
   ]
  },
  {
   "cell_type": "markdown",
   "metadata": {},
   "source": [
    "### Operators and Comparisons\n",
    "Most operators and comparisons in Python work as one would expect:\n",
    "\n",
    "* Arithmetic operators `+`, `-`, `*`, `/`, `//` (integer division), '**' power."
   ]
  },
  {
   "cell_type": "code",
   "execution_count": 142,
   "metadata": {
    "collapsed": false
   },
   "outputs": [
    {
     "data": {
      "text/plain": [
       "(20, 5, 25, 2, 2, 4)"
      ]
     },
     "execution_count": 142,
     "metadata": {},
     "output_type": "execute_result"
    }
   ],
   "source": [
    "10+10, 10-5, 5*5, 20/10, 5//2, 2**2"
   ]
  },
  {
   "cell_type": "markdown",
   "metadata": {},
   "source": [
    "Note: The `/` operator always performs a floating point division in Python 3.x.\n",
    "This is not true in Python 2.x, where the result of `/` is always an integer if the operands are integers.\n",
    "to be more specific, `1/2 = 0.5` (`float`) in Python 3.x, and `1/2 = 0` (`int`) in Python 2.x (but `1.0/2 = 0.5` in Python 2.x)."
   ]
  },
  {
   "cell_type": "markdown",
   "metadata": {},
   "source": [
    "The boolean operators are spelled out as the words `and`, `not`, `or`. "
   ]
  },
  {
   "cell_type": "code",
   "execution_count": 144,
   "metadata": {
    "collapsed": false
   },
   "outputs": [
    {
     "data": {
      "text/plain": [
       "False"
      ]
     },
     "execution_count": 144,
     "metadata": {},
     "output_type": "execute_result"
    }
   ],
   "source": [
    "True and False"
   ]
  },
  {
   "cell_type": "code",
   "execution_count": 145,
   "metadata": {
    "collapsed": false
   },
   "outputs": [
    {
     "data": {
      "text/plain": [
       "True"
      ]
     },
     "execution_count": 145,
     "metadata": {},
     "output_type": "execute_result"
    }
   ],
   "source": [
    "not False"
   ]
  },
  {
   "cell_type": "code",
   "execution_count": 146,
   "metadata": {
    "collapsed": false
   },
   "outputs": [
    {
     "data": {
      "text/plain": [
       "True"
      ]
     },
     "execution_count": 146,
     "metadata": {},
     "output_type": "execute_result"
    }
   ],
   "source": [
    "True or False"
   ]
  },
  {
   "cell_type": "markdown",
   "metadata": {},
   "source": [
    "Comparison operators `>`, `<`, `>=` (greater or equal), `<=` (less or equal), `==` equality, `is` identical."
   ]
  },
  {
   "cell_type": "code",
   "execution_count": 147,
   "metadata": {
    "collapsed": false
   },
   "outputs": [
    {
     "data": {
      "text/plain": [
       "(True, True)"
      ]
     },
     "execution_count": 147,
     "metadata": {},
     "output_type": "execute_result"
    }
   ],
   "source": [
    "20 > 10, 5 < 17"
   ]
  },
  {
   "cell_type": "code",
   "execution_count": 149,
   "metadata": {
    "collapsed": false
   },
   "outputs": [
    {
     "data": {
      "text/plain": [
       "(True, True)"
      ]
     },
     "execution_count": 149,
     "metadata": {},
     "output_type": "execute_result"
    }
   ],
   "source": [
    "3 >= 3, 4 <= 4.5"
   ]
  },
  {
   "cell_type": "code",
   "execution_count": 152,
   "metadata": {
    "collapsed": false
   },
   "outputs": [
    {
     "data": {
      "text/plain": [
       "True"
      ]
     },
     "execution_count": 152,
     "metadata": {},
     "output_type": "execute_result"
    }
   ],
   "source": [
    "8 == 8"
   ]
  },
  {
   "cell_type": "code",
   "execution_count": 156,
   "metadata": {
    "collapsed": false
   },
   "outputs": [
    {
     "data": {
      "text/plain": [
       "True"
      ]
     },
     "execution_count": 156,
     "metadata": {},
     "output_type": "execute_result"
    }
   ],
   "source": [
    "value1 = 10\n",
    "value2 = 10\n",
    "# Objects identical?\n",
    "value1 is value2"
   ]
  },
  {
   "cell_type": "markdown",
   "metadata": {},
   "source": [
    "Note: `is` will return `True` if two variables point to the same object. `==` if the objects referred to by the variables area equal."
   ]
  },
  {
   "cell_type": "code",
   "execution_count": 160,
   "metadata": {
    "collapsed": false
   },
   "outputs": [
    {
     "data": {
      "text/plain": [
       "True"
      ]
     },
     "execution_count": 160,
     "metadata": {},
     "output_type": "execute_result"
    }
   ],
   "source": [
    "values1 = [1, 2, 3]\n",
    "values2 = values1\n",
    "\n",
    "values2 is values1"
   ]
  },
  {
   "cell_type": "code",
   "execution_count": 162,
   "metadata": {
    "collapsed": false
   },
   "outputs": [
    {
     "data": {
      "text/plain": [
       "True"
      ]
     },
     "execution_count": 162,
     "metadata": {},
     "output_type": "execute_result"
    }
   ],
   "source": [
    "values2 == values1"
   ]
  },
  {
   "cell_type": "code",
   "execution_count": 163,
   "metadata": {
    "collapsed": false
   },
   "outputs": [
    {
     "data": {
      "text/plain": [
       "False"
      ]
     },
     "execution_count": 163,
     "metadata": {},
     "output_type": "execute_result"
    }
   ],
   "source": [
    "values2 = values1[:]\n",
    "values2 is values1"
   ]
  },
  {
   "cell_type": "code",
   "execution_count": 164,
   "metadata": {
    "collapsed": false
   },
   "outputs": [
    {
     "data": {
      "text/plain": [
       "True"
      ]
     },
     "execution_count": 164,
     "metadata": {},
     "output_type": "execute_result"
    }
   ],
   "source": [
    "values2 ==values1"
   ]
  },
  {
   "cell_type": "markdown",
   "metadata": {},
   "source": [
    "### None\n",
    "---\n",
    "This is the NULL value type in Python."
   ]
  },
  {
   "cell_type": "code",
   "execution_count": 108,
   "metadata": {
    "collapsed": false
   },
   "outputs": [
    {
     "name": "stdout",
     "output_type": "stream",
     "text": [
      "None\n",
      "<type 'NoneType'>\n"
     ]
    }
   ],
   "source": [
    "value = None\n",
    "print value\n",
    "print type(value)"
   ]
  },
  {
   "cell_type": "markdown",
   "metadata": {},
   "source": [
    "## Python Hello World!\n",
    "---\n",
    "Some types of Hello World in Python."
   ]
  },
  {
   "cell_type": "code",
   "execution_count": 109,
   "metadata": {
    "collapsed": false
   },
   "outputs": [
    {
     "name": "stdout",
     "output_type": "stream",
     "text": [
      "Hello World!\n"
     ]
    }
   ],
   "source": [
    "print \"Hello World!\""
   ]
  },
  {
   "cell_type": "code",
   "execution_count": 110,
   "metadata": {
    "collapsed": false
   },
   "outputs": [
    {
     "name": "stdout",
     "output_type": "stream",
     "text": [
      "Hello World Daniel\n"
     ]
    }
   ],
   "source": [
    "person = \"Daniel\"\n",
    "print \"Hello World\" , name"
   ]
  },
  {
   "cell_type": "code",
   "execution_count": 111,
   "metadata": {
    "collapsed": false
   },
   "outputs": [
    {
     "name": "stdout",
     "output_type": "stream",
     "text": [
      "Overwriting hello.py\n"
     ]
    }
   ],
   "source": [
    "%%file hello.py\n",
    "import sys\n",
    "name = sys.argv[1]\n",
    "print \"Hello world %s!\" % name"
   ]
  },
  {
   "cell_type": "code",
   "execution_count": 112,
   "metadata": {
    "collapsed": false
   },
   "outputs": [
    {
     "name": "stdout",
     "output_type": "stream",
     "text": [
      "Hello world Daniel!\r\n"
     ]
    }
   ],
   "source": [
    "!python hello.py \"Daniel\""
   ]
  },
  {
   "cell_type": "code",
   "execution_count": 113,
   "metadata": {
    "collapsed": false
   },
   "outputs": [
    {
     "name": "stdout",
     "output_type": "stream",
     "text": [
      "Hello world Daniel!\n"
     ]
    }
   ],
   "source": [
    "run hello.py \"Daniel\""
   ]
  },
  {
   "cell_type": "markdown",
   "metadata": {},
   "source": [
    "- `sys.argv` is the list of command line inputs.\n",
    "- `sys.argv[1]` gets the string argument \"Daniel\"."
   ]
  },
  {
   "cell_type": "markdown",
   "metadata": {},
   "source": [
    "## A complete script in Python"
   ]
  },
  {
   "cell_type": "code",
   "execution_count": 114,
   "metadata": {
    "collapsed": false
   },
   "outputs": [
    {
     "name": "stdout",
     "output_type": "stream",
     "text": [
      "Overwriting pow.py\n"
     ]
    }
   ],
   "source": [
    "%%file pow.py\n",
    "\n",
    "# Importing Modules\n",
    "import sys, math\n",
    "\n",
    "value_x = int(sys.argv[1])\n",
    "value_y = int(sys.argv[2])\n",
    "\n",
    "pow_value = math.pow(value_x, value_y)\n",
    "\n",
    "print \"%d raised to the power %d is %d.\" % (value_x, value_y, pow_value)\n"
   ]
  },
  {
   "cell_type": "code",
   "execution_count": 115,
   "metadata": {
    "collapsed": false
   },
   "outputs": [
    {
     "name": "stdout",
     "output_type": "stream",
     "text": [
      "10 raised to the power 2 is 100.\n"
     ]
    }
   ],
   "source": [
    "run pow.py 10 2"
   ]
  },
  {
   "cell_type": "markdown",
   "metadata": {},
   "source": [
    "To execute this script in the terminal:\n",
    "\n",
    "`$ python pow.py 10 20`"
   ]
  },
  {
   "cell_type": "markdown",
   "metadata": {},
   "source": [
    "## References\n",
    "---\n",
    "- Python Tutorial: https://docs.python.org/2/tutorial/index.html\n",
    "- Problem Solving with Algorithms and Data Structures (By Brad Miller and David Ranum, Luther College): http://interactivepython.org/runestone/static/pythonds/index.html\n",
    "- Introduction to Python for Data Analysis (University of Colorado Computational Science and Engineering): https://github.com/ResearchComputing/Meetup-Fall-2013\n",
    "- Lectures on scientific computing with Python (Robert Johansson): https://github.com/jrjohansson/scientific-python-lectures"
   ]
  },
  {
   "cell_type": "markdown",
   "metadata": {},
   "source": [
    "## Next Lecture\n",
    "In the next lecture we will see data structures, control structures and exception handling."
   ]
  }
 ],
 "metadata": {
  "kernelspec": {
   "display_name": "Python 2",
   "language": "python",
   "name": "python2"
  },
  "language_info": {
   "codemirror_mode": {
    "name": "ipython",
    "version": 2
   },
   "file_extension": ".py",
   "mimetype": "text/x-python",
   "name": "python",
   "nbconvert_exporter": "python",
   "pygments_lexer": "ipython2",
   "version": "2.7.10"
  }
 },
 "nbformat": 4,
 "nbformat_minor": 0
}
