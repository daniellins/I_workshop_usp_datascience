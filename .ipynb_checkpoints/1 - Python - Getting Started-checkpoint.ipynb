{
 "cells": [
  {
   "cell_type": "markdown",
   "metadata": {},
   "source": [
    "# Python Getting Started\n",
    "\n",
    "November 2015\n",
    "\n",
    "by Daniel Lins da Silva - daniel.lins (at) gmail.com\n",
    "\n",
    "---\n",
    "- [What is Python?](#What-is-Python?)\n",
    "- [Python Implementations](#Python-Implementations)\n",
    "- [Python Interpreter](#Python-Interpreter)\n",
    "- [Development Environments](#Development-Environments)\n",
    "- [Versions of Python](#Versions-of-Python)\n",
    "- [Installation](#Installation)"
   ]
  },
  {
   "cell_type": "markdown",
   "metadata": {
    "collapsed": true
   },
   "source": [
    "## What is Python?\n",
    "---\n",
    "[Python](http://www.python.org/) is a modern, general-purpose, object-oriented, high-level programming language.\n",
    "\n",
    "General characteristics of Python:\n",
    "\n",
    "* **clean and simple language:** Easy-to-read and intuitive code, easy-to-learn minimalistic syntax, maintainability scales well with size of projects.\n",
    "* **expressive language:** Fewer lines of code, fewer bugs, easier to maintain.\n",
    "\n",
    "Technical details:\n",
    "\n",
    "* **dynamically typed:** No need to define the type of variables, function arguments or return types.\n",
    "* **automatic memory management:** No need to explicitly allocate and deallocate memory for variables and data arrays. No memory leak bugs. \n",
    "* **interpreted:** No need to compile the code. The Python interpreter reads and executes the python code directly.\n",
    "\n",
    "Advantages:\n",
    "\n",
    "* The main advantage is ease of programming, minimizing the time required to develop, debug and maintain the code.\n",
    "* Well designed language that encourage many good programming practices:\n",
    " * Modular and object-oriented programming, good system for packaging and re-use of code. This often results in more transparent, maintainable and bug-free code.\n",
    " * Documentation tightly integrated with the code.\n",
    "* A large standard library, and a large collection of add-on packages.\n",
    "\n",
    "Disadvantages:\n",
    "\n",
    "* Since Python is an interpreted and dynamically typed programming language, the execution of python code can be slow compared to compiled statically typed programming languages, such as C and Fortran. \n",
    "* Somewhat decentralized, with different environment, packages and documentation spread out at different places. Can make it harder to get started."
   ]
  },
  {
   "cell_type": "markdown",
   "metadata": {},
   "source": [
    "## Python Implementations\n",
    "---\n",
    "Python is not only a programming language, but often also refers to the standard implementation of the interpreter (technically referred to as [CPython](http://en.wikipedia.org/wiki/CPython)) that actually runs the python code on a computer.\n",
    "\n",
    "Additional Python Programming Language implementations are:\n",
    "- [Cython](https://en.wikipedia.org/wiki/Cython)\n",
    "- [Jython](https://en.wikipedia.org/wiki/Jython)\n",
    "- [IronPython](https://en.wikipedia.org/wiki/IronPython)\n",
    "- [PyPy](https://en.wikipedia.org/wiki/PyPy)\n",
    "\n",
    "There are also many different environments through which the python interpreter can be used. Each environment has different advantages and is suitable for different workflows. One strength of python is that it is versatile and can be used in complementary ways, but it can be confusing for beginners so we will start with a brief survey of python environments that are useful for scientific computing.\n",
    "\n"
   ]
  },
  {
   "cell_type": "markdown",
   "metadata": {},
   "source": [
    "## Python Interpreter\n",
    "---\n",
    "The standard way to use the Python programming language is to use the Python interpreter to run python code. The python interpreter is a program that reads and execute the python code in files passed to it as arguments. At the terminal, the command ``python`` is used to invoke the Python interpreter.\n",
    "\n",
    "For example, to run a file ``hello-world.py`` that contains python code from the command prompt, use:\n",
    "\n",
    "    $ python hello-world.py\n",
    "    \n",
    "<img src=\"python-program-terminal.png\" width=\"600\">\n",
    "      \n",
    "\n",
    "We can also start the interpreter by simply typing ``python`` at the command line, and interactively type python code into the interpreter. \n",
    "\n",
    "<!-- <img src=\"python-interpreter.png\" width=\"600\"> -->\n",
    "<img src=\"python-interpreter.png\" width=\"600\">\n",
    "\n",
    "<img src=\"python-interpreter-comands.png\" width=\"600\">\n",
    "\n",
    "\n",
    "This is often how we want to work when developing scientific applications, or when doing small calculations. But the standard python interpreter is not very convenient for this kind of work, due to a number of limitations."
   ]
  },
  {
   "cell_type": "markdown",
   "metadata": {},
   "source": [
    "## Development Environments\n",
    "---\n",
    "Anything that can edit plain text will work well for writing Python code, however, using a more powerful editor may make your life easier.\n",
    "\n",
    "Some of the most popular text editors to Python programming are:\n",
    "- [Vim](http://www.vim.org/): Vim is a text editor which uses keyboard shortcuts for editing instead of menus or icons. There are a couple of plugins and settings for the Vim editor to aid Python development.\n",
    "- [Atom](https://atom.io/): Atom is web native (HTML, CSS, JS), focusing on modular design and easy plugin development. It comes with native package control and plethora of packages.\n",
    "- [Sublime](http://www.sublimetext.com/): Sublime Text versions 2 and 3 are popular text editors that can be extended with code completion, linting, syntax highlighting and other features using plugins.\n",
    "\n",
    "Some of the most popular Python Integrated Development Environment (IDE) are:\n",
    "- [PyCharm](http://www.jetbrains.com/pycharm/): PyCharm is a Python-specific IDE built on JetBrains' platform. There are free editions for students and open source projects.\n",
    "- [PyDev](http://www.pydev.org/): PyDev is a Python IDE for Eclipse, which may be used in Python, Jython and IronPython development.\n",
    "- [Visual Studio](http://microsoft.github.io/PTVS/): Python tools for Visual Studio (PTVS) is a free, open source plugin that turns Visual Studio into a Python IDE.\n",
    "- [Spyder](https://github.com/spyder-ide/spyder): Spyder is an IDE specifically geared toward working with scientific Python libraries (namely Scipy). It includes integration with pyflakes, pylint and rope.\n",
    "\n",
    "More info about python development environments can be seen in the [Python Wiki](https://wiki.python.org/moin/IntegratedDevelopmentEnvironments)."
   ]
  },
  {
   "cell_type": "markdown",
   "metadata": {},
   "source": [
    "### IPython\n",
    "IPython is an interactive shell that addresses the limitations of the standard python interpreter, and it is a work-horse for scientific use of python. It provides an interactive prompt to the python interpreter with a improved user-friendliness.\n",
    "\n",
    "<img src=\"ipython-terminal.png\" width=\"600\">\n",
    "\n",
    "<img src=\"ipython-terminal-commands.png\" width=\"600\">\n",
    "\n",
    "Some of the many useful features of IPython includes:\n",
    "\n",
    "* Command history, which can be browsed with the up and down arrows on the keyboard.\n",
    "* Tab auto-completion.\n",
    "* In-line editing of code.\n",
    "* Object introspection, and automatic extract of documentation strings from python objects like classes and functions.\n",
    "* Good interaction with operating system shell.\n",
    "* Support for multiple parallel back-end processes, that can run on computing clusters or cloud services like Amazon EE2.\n"
   ]
  },
  {
   "cell_type": "markdown",
   "metadata": {},
   "source": [
    "### IPython Notebook (Jupyter Notebook)\n",
    "[IPython notebook](http://ipython.org/notebook.html) is an HTML-based notebook environment for Python, similar to Mathematica or Maple. It is based on the IPython shell, but provides a cell-based environment with great interactivity, where calculations can be organized and documented in a structured way.\n",
    "\n",
    "<img src=\"ipython-notebook-screenshot.png\" width=\"800\">\n",
    "\n",
    "Although using a web browser as graphical interface, IPython notebooks are usually run locally, from the same computer that run the browser. To start a new IPython notebook session, run the following command:\n",
    "\n",
    "    $ ipython notebook\n",
    "\n",
    "from a directory where you want the notebooks to be stored. This will open a new browser window (or a new tab in an existing window) with an index page where existing notebooks are shown and from which new notebooks can be created.\n",
    "\n",
    "Since the IPython 4.0, the language-agnostic parts of the project: the notebook format, message protocol, qtconsole, notebook web application, etc. have moved to new projects under the name [Jupyter](http://jupyter.org/). IPython itself is focused on interactive Python, part of which is providing a Python kernel for Jupyter.\n",
    "\n",
    "To start a new Jupyter notebook session, run the following command:\n",
    "\n",
    "    $ jupyter notebook"
   ]
  },
  {
   "cell_type": "markdown",
   "metadata": {},
   "source": [
    "## Versions of Python\n",
    "---\n",
    "There are currently two versions of python: Python 2.7 and Python 3.x. Python 3.x will eventually supercede Python 2.7, but it is not backward-compatible. A lot of existing python code and packages has been written for Python 2.7, and it is still the most wide-spread version. For these lectures either version will be fine, but it is probably easier to stick with Python 2.7 for now, because it is more readily available via prebuilt packages and binary installers.\n",
    "\n",
    "To see which version of Python you have, run in the terminal:\n",
    "\n",
    "`$ python --version`\n",
    "    \n",
    "    python 2.7.10\n",
    "  \n",
    "`$ python3 --version` \n",
    "    \n",
    "    python 3.4.3\n",
    "    \n",
    "\n",
    "Several versions of Python can be installed in a computer.\n"
   ]
  },
  {
   "cell_type": "markdown",
   "metadata": {},
   "source": [
    "## Installation\n",
    "---"
   ]
  },
  {
   "cell_type": "markdown",
   "metadata": {},
   "source": [
    "### Anaconda (Recommended)\n",
    "Anaconda is a completely free Python distribution (including for commercial use and redistribution). It includes more than 300 of the most popular Python packages for science, math, engineering, and data analysis.\n",
    "\n",
    "We recommend the use of Anaconda to facilitate the setup of Workshop requirements. Anaconda is available to Linux, OS X and Windows.\n",
    "\n",
    "Go to [Continuum Website](https://www.continuum.io/downloads), download Anaconda for Python 2.7 and follow the Website instructions."
   ]
  },
  {
   "cell_type": "markdown",
   "metadata": {},
   "source": [
    "### Manual Installation"
   ]
  },
  {
   "cell_type": "markdown",
   "metadata": {},
   "source": [
    "#### Linux\n",
    "Python is included by default in Ubuntu Linux, but to check it, run in the terminal:\n",
    "\n",
    "    $ python --version\n",
    "\n",
    "\n",
    "\n",
    "In Ubuntu Linux, to installing python and all the requirements, run in the terminal:\n",
    "\n",
    "    $ sudo apt-get install python ipython ipython-notebook\n",
    "    \n",
    "After you need install adittional modules:\n",
    "    \n",
    "    $ sudo apt-get install python-numpy python-scipy python-matplotlib python-sympy"
   ]
  },
  {
   "cell_type": "markdown",
   "metadata": {},
   "source": [
    "#### MacOS X\n",
    "*Macports*\n",
    "\n",
    "Python is included by default in Mac OS X, but for our purposes it will be useful to install a new python environment using [Macports](http://www.macports.org/), because it makes it much easier to install all the required additional packages. Using Macports, we can install what we need with:\n",
    "\n",
    "    $ sudo port install py27-ipython +pyside+notebook+parallel+scientific\n",
    "    \n",
    "    $ sudo port install py27-scipy py27-matplotlib py27-sympy\n",
    "\n",
    "These will associate the commands `python` and `ipython` with the versions installed via macports (instead of the one that is shipped with Mac OS X), run the following commands:\n",
    "\n",
    "    $ sudo port select python python27\n",
    "    \n",
    "    $ sudo port select ipython ipython27\n",
    "\n",
    "*Fink*\n",
    "\n",
    "Or, alternatively, you can use the [Fink](http://www.finkproject.org/) package manager. After installing Fink, use the following command to install python and the packages that we need:\n",
    "\n",
    "    $ sudo fink install python27 ipython-py27 numpy-py27 matplotlib-py27 scipy-py27 sympy-py27"
   ]
  },
  {
   "cell_type": "markdown",
   "metadata": {},
   "source": [
    "#### Windows\n",
    "Windows lacks a good packaging system, so the easiest way to setup a Python environment is to install a pre-packaged distribution. Some good alternatives are:\n",
    "\n",
    " * [Enthought Python Distribution](http://www.enthought.com/products/epd.php). EPD is a commercial product but is available free for academic use.\n",
    " * [Anaconda](http://continuum.io/downloads.html). The Anaconda Python distribution comes with many scientific computing and data science packages and is free, including for commercial use and redistribution. It also has add-on products such as Accelerate, IOPro, and MKL Optimizations, which have free trials and are free for academic use.\n",
    " * [Python(x,y)](http://code.google.com/p/pythonxy/). Fully open source.\n",
    "\n",
    "\n",
    "EPD and Anaconda are also available for Linux and Max OS X."
   ]
  },
  {
   "cell_type": "markdown",
   "metadata": {},
   "source": [
    "#### Conda\n",
    "The other way to fast set-up an scientific Python environment is using the cross-platform package manager `conda` from Continuum Analytics. First download and install miniconda http://conda.pydata.org/miniconda.html. Next, to install the required libraries for these notebooks, simply run:\n",
    "\n",
    "    $ conda install ipython ipython-notebook numpy scipy sympy matplotlib cython\n",
    "\n",
    "This should be sufficient to get a working environment on any platform supported by `conda`."
   ]
  },
  {
   "cell_type": "markdown",
   "metadata": {},
   "source": [
    "## References\n",
    "---\n",
    "- Python Tutorial: https://docs.python.org/2/tutorial/index.html\n",
    "- Problem Solving with Algorithms and Data Structures (By Brad Miller and David Ranum, Luther College): http://interactivepython.org/runestone/static/pythonds/index.html\n",
    "- Introduction to Python for Data Analysis (University of Colorado Computational Science and Engineering): https://github.com/ResearchComputing/Meetup-Fall-2013\n",
    "- Lectures on scientific computing with Python (Robert Johansson): https://github.com/jrjohansson/scientific-python-lectures"
   ]
  },
  {
   "cell_type": "markdown",
   "metadata": {},
   "source": [
    "## Next Lecture\n",
    "In the next lecture we will see Python basics."
   ]
  }
 ],
 "metadata": {
  "kernelspec": {
   "display_name": "Python 2",
   "language": "python",
   "name": "python2"
  },
  "language_info": {
   "codemirror_mode": {
    "name": "ipython",
    "version": 2
   },
   "file_extension": ".py",
   "mimetype": "text/x-python",
   "name": "python",
   "nbconvert_exporter": "python",
   "pygments_lexer": "ipython2",
   "version": "2.7.10"
  }
 },
 "nbformat": 4,
 "nbformat_minor": 0
}
