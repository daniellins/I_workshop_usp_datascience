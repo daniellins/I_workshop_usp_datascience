{
 "cells": [
  {
   "cell_type": "markdown",
   "metadata": {},
   "source": [
    "# 1st Workshop on Data Science\n",
    "\n",
    "## Training Resources ##\n",
    "\n",
    "\n",
    "\n",
    "\n",
    "Training Organizers:\n",
    "\n",
    "Andre Batista - andrefmb (at) usp.br\n",
    "\n",
    "Daniel Lins - daniel.lins (at) gmail.com\n",
    "\n",
    "\n",
    "\n",
    "## Resources ##\n",
    "\n",
    "1. [Python Overview](Python_Overview.html)\n",
    "2. [Getting Started](Getting_Started.html)\n",
    "3. [Data Structures, Control Structures and Exception Handling](Data_Structures_Control_Structures_and_Exception_Handling.html)\n",
    "4. [Functions and Classes](Functions_and_Classes.html)\n",
    "5. [NetCDF File Format - Overview, Python and ARM Project](NetCDF File Format - Overview%2C Python and ARM Project.html)\n",
    "6. [Py-ART: Python ARM Radar Toolkit](Py-ART - Python ARM Radar Toolkit.html)\n"
   ]
  }
 ],
 "metadata": {
  "kernelspec": {
   "display_name": "Python 2",
   "language": "python",
   "name": "python2"
  },
  "language_info": {
   "codemirror_mode": {
    "name": "ipython",
    "version": 2
   },
   "file_extension": ".py",
   "mimetype": "text/x-python",
   "name": "python",
   "nbconvert_exporter": "python",
   "pygments_lexer": "ipython2",
   "version": "2.7.6"
  }
 },
 "nbformat": 4,
 "nbformat_minor": 0
}
