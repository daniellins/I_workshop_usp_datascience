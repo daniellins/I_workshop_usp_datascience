{
 "cells": [
  {
   "cell_type": "markdown",
   "metadata": {},
   "source": [
    "# netCDF File Format: Overview, Python Libraries and ARM Project\n",
    "November 2015\n",
    "\n",
    "\n",
    "by Andre Filipe M. Batista - andrefmb (at) usp.br\n",
    "\n",
    "\n",
    "\n",
    "## netCDF File Structure \n",
    "\n",
    "netCDF stands for *Network Command Data Form*. It is more than just a file format. In the simple view, netCDF is a:\n",
    "\n",
    "- Data model\n",
    "- File format\n",
    "- Application programming interface (API)\n",
    "- Library implementing the API\n",
    "\n",
    "Together the data model, file format, and APIs support the creation, access and sharing of scientific data.\n",
    "\n",
    "#### netCDF Models and Formats ####\n",
    "\n",
    "- Two data models\n",
    "    - Classic model (netCDF-1, netCDF-2, netCDF-3)\n",
    "    - Enhanced model (netCDF-4)\n",
    "- Four file formats\n",
    "    - Classic format\n",
    "    - 64-bit offset format\n",
    "    - NetCDF-4 format\n",
    "    - netCDF-4 classic model format\n",
    "    \n",
    "- Two independent flavours of APIs\n",
    "    - C-based (C, F90, F77, C++, Python, Perl, Ruby, Matlab,...)\n",
    "    - Java-based\n",
    "    \n",
    "#### netCDF Features ####\n",
    "\n",
    "Several characteristics make netCDF useful for storing and accessing scientific data:\n",
    "\n",
    "- **Self-describing**: A netCDF file may include metadata as well as data: names of variables, data locations in time and space, units of measure, and other useful information;\n",
    "\n",
    "- **Portable**: Data written on one platform can be read on other platforms;\n",
    "\n",
    "- **Direct-access**: A small subset of a large dataset may be accessed efficiently without first reading through all the proceding data;\n",
    "\n",
    "- **Appendable**: Data may be appended to a netCDF file without copying the dataset off redefining its structure;\n",
    "\n",
    "- ** Networkable**: The netCDF library provides client access to structured data on remote servers through OPeNDAP protocols;\n",
    "\n",
    "- ** Extensible**: Adding new dimensions, variables, or attributes to netCDF files does not require changes to existing programs that read the files;\n",
    "\n",
    "- ** Sharable **: One writer and multiple readers may simultaneously access the same netCDF file. With parallel netCDF, multiple writers may efficiently and concurrently write into the same netCDF file;\n",
    "\n",
    "- ** Archivable **: Access to all earlier forms of netCDF data will be supported by current and future versions of the software.\n",
    "\n",
    "\n",
    "\n",
    "## NetCDF Files Structure ##\n",
    "\n",
    "\n",
    "NetCDF files  are containers for Dimensions, Variables and Global Attributes.\n",
    "\n",
    "![NetCDF File Structure](http://www.unidata.ucar.edu/software/netcdf/workshops/2012/nc3model/images/ncfile.png)\n",
    "\n",
    "\n",
    "-----\n",
    "** Dimensions **\n",
    "\n",
    "-----\n",
    "\n",
    "Each file contains one or more **dimensions** used to describe each variable by time, space, and or category.  The majority of variables will be dimensioned by time, and time will always be the first dimension listed for multi-dimensional fields such as those commonly described by something such as time, height.\n",
    "\n",
    "*Dimensions are used to specify variables shapes, common grids, and coordinate systems*. Examples of dimensions:\n",
    "![Dimensions](http://www.unidata.ucar.edu/software/netcdf/workshops/2012/nc3model/images/ncdim2.png)\n",
    "\n",
    "------\n",
    "**Variables**\n",
    "\n",
    "------\n",
    "\n",
    "\n",
    "The next section in each file lists the **variables**.  Each variable has a name and data type such as int, double, or float. These variables are all further described by attributes. Typical attributes for each variable are the long_name, units, and missing_value, but there may be others such as valid_min, valid_max, and valid_delta often associated with automated quality control variables.\n",
    "\n",
    "*Variables hold data values classic netCDF data model, a variable can hold a multidimensional array of values of the same type.* Examples of variables:\n",
    "\n",
    "![Variables](http://www.unidata.ucar.edu/software/netcdf/workshops/2012/nc3model/images/ncvar.png)\n",
    "\n",
    "A variable has a name, type, shape, attributes, and values.\n",
    "In the classic data model, the type of a variable is the external type of its data as represented on disk, one of\n",
    "\n",
    "    - char (text character)\n",
    "    - byte (8 bits)\n",
    "    - short (16 bits)\n",
    "    - int (32 bits)\n",
    "    - float (32 bits)\n",
    "    - double (64 bits)\n",
    "    \n",
    "    \n",
    "The shape of a variable is specified with a **list of dimensions**.\n",
    "\n",
    "\n",
    "* no dimensions: a scalar variable with only one value\n",
    "- 1 dimension: a 1-D (vector) variable, such as time\n",
    "- 2 dimensions: a 2-D (grid or matrix) variable, such as surface_pressure\n",
    "- 3 dimensions: a 3-D variable, such as relative_humidity\n",
    "- 4 dimensions: a 4-D variable, such as relative_humidity at a series of times\n",
    "\n",
    "\n",
    "** Variables Attributes **\n",
    "\n",
    "Attributes hold metadata (data about data). An attribute contains information about properties of a variable or dataset. An attribute has a name, type, and values. Attributes are used to specify such properties as units, standard names (that identify types of quantity), special values, maximum and minimum valid values, scaling factors, offsets, and measurement parameters.\n",
    "\n",
    "![Attributes](http://www.unidata.ucar.edu/software/netcdf/workshops/2012/nc3model/images/ncatts.png)\n",
    "\n",
    "-----\n",
    "** Global Attributes **\n",
    "\n",
    "-----\n",
    "\n",
    "Finally, the last section of each file contains the **global_attributes**. This section contains additional information that applies to the file as a whole instead of a single variable. This section typically contains information such as the software version used to create the file, a history attribute showing when the file was created, instrument serial numbers, etc.\n",
    "\n",
    "\n",
    "\n",
    "## 'Classic' NetCDF Data Model\n",
    "\n",
    "The classic netCDF data model uses dimensions, variables, and attributes, to capture the meaning of array-oriented scientific data.\n",
    "UML diagrams represent data models visually. Each box contains\n",
    "* the name of a class of objects\n",
    "* characteristics of object in the class\n",
    "* operations (methods) for that class of objects\n",
    "\n",
    "\n",
    "\n",
    "![UML Diagram](http://www.unidata.ucar.edu/software/netcdf/workshops/2012/nc3model/images/nc-classic-uml.png)\n",
    "\n",
    "\n",
    "\n",
    "#Common Data Language - Examples\n",
    "\n",
    "CDL (Common Data Language) is a human-readable notation for netCDF objects and data.\n",
    "\n",
    "\n",
    "```netcdf\n",
    " netcdf example {   // example of CDL notation\n",
    "  dimensions:\n",
    "\t  lon = 3 ;\n",
    "\t  lat = 8 ;\n",
    "  variables:\n",
    "\t  float rh(lon, lat) ;\n",
    "\t\t  rh:units = \"percent\" ;\n",
    "\t\t  rh:long_name = \"Relative humidity\" ;\n",
    "  // global attributes\n",
    "\t  :title = \"Simple example, lacks some conventions\" ;\n",
    "  data:\n",
    "   rh =\n",
    "    2,  3,  5,   7, 11, 13, 17, 19,\n",
    "    23, 29, 31, 37, 41, 43, 47, 53,\n",
    "    59, 61, 67, 71, 73, 79, 83, 89 ;\n",
    "  }\n",
    "```\n",
    "\n",
    "It is  an example of a netCDF dataset with ** two dimensions** (lon and lat), **one variable** (rh), **two variable attributes** (units and long_name), **one global attribute** (title) and some data valeus for the variable.\n",
    "\n",
    "\n",
    "Another example:\n",
    "\n",
    "\n",
    "\n",
    "```netcdf\n",
    "netcdf co2 {\n",
    "    dimensions:\n",
    "        T = 456 ;\n",
    "    variables:\n",
    "        float T(T) ;\n",
    "            T:units = \"months since 1960-01-01\" ;\n",
    "        float co2(T) ;\n",
    "            co2:long_name = \"CO2 concentration by volume\" ;\n",
    "            co2:units = \"1.0e-6\" ;\n",
    "            co2:_FillValue = -99.99f ;\n",
    "\n",
    "     // global attributes:\n",
    "       :references = \"Keeling_etal1996, Keeling_etal1995\" ;\n",
    "}\n",
    "```\n",
    "An example of a variable: co2, representing averaged concentrations.\n",
    "An example of a dimension: T, representing a time axis.\n",
    "An example of a variable attribute: units, associated with the co2 variable.\n",
    "An example of a file attribute: references, which applies to the whole file.\n",
    "\n",
    "\n",
    "\n",
    "We can use a set of tools in order to better explore netCDF files and visualize them. For example [Panoply](http://www.giss.nasa.gov/tools/panoply/download_win.html). Below we can see a plot generate by Panoply based on Co2.nc file.\n",
    "\n",
    "![Grafico gerado pelo Panoply](co2.png)\n",
    "\n",
    "\n",
    " \n",
    " \n",
    "\n"
   ]
  },
  {
   "cell_type": "markdown",
   "metadata": {},
   "source": [
    "\n",
    "#ARM Project NetCDF File Format\n",
    "\n",
    "\n",
    "\n",
    "The ARM projects stores its data in Unidata's netCDF file format (http://www.unidata.ucar.edu/software/netcdf/). netCDF is a set of software libraries and self-describing, machine-independent binary file format that is very useful for storing, accessing and sharing scientific datasets.\n",
    "\n",
    "Many languages provide interfaces to NetCDF. \n",
    "\n",
    "###File Name Convention for ARM Project netCDF Files\n",
    "\n",
    "At ARM Project, the file names are structured in a very specific format, which includes information about the site, instrument (or ARM value-added product - VAP), facility, data level, start data and start time (in UTC). All characters are lowercase except for the facility indicador.  Only “a-z”, “A-Z”, “0-9”, and “.” characters are allowed.\n",
    "\n",
    "Example:\n",
    "\n",
    "\n",
    "![alt text](https://www.arm.gov/images/cms/data-management.gif)\n",
    "\n",
    "\n",
    "\n",
    "ARM netCDF files shall be named according to the following naming convention:\n",
    "\n",
    "(sss)(nn)(inst)(qqq)(Fn).(dl).YYYYMMDD.hhmmss.cdf.\n",
    "\n",
    "where:\n",
    "\n",
    "* sss [3 characters]\n",
    "  +  is the site identifier (e.g., sgp, twp, nsa)\n",
    "* nn\n",
    "  +  is the data integration period (e.g., 1, 5, 15, 30, 1440)\n",
    "* inst\n",
    "  +  is the instrument abbreviation (e.g., mwr, wsi, mpl)\n",
    "* qqq\n",
    "  +   is an optional qualifier that distinguishes these data from other data sets produced by the same instrument\n",
    "* Fn [2 characters]\n",
    "  +  is the facility designation (e.g., C1, E13, B4)\n",
    "* dl [2 characters]\n",
    "  +  is the data level (e.g., a0, a1, b1, c1)\n",
    "  + Data level are based on the \"level of processing\", with the lowest level of data beingh designated as raw or \"00\" data. Each subsequent data level has minimum requirements and data level is not increased until ALL those requirements of that level as well as the requirements of all data levels below that level have been met\n",
    "      + 00 - raw data, primary raw data stream collected directly from instrument\n",
    "      + 01 - raw data, redundant data stream or sneakernet data\n",
    "      + a0 - converted to netCDF\n",
    "      + a1 - calibration factors applied and converted to geophysical units\n",
    "      + a2 to a9 - further processing on a1 level data that does not merit b1 classification\n",
    "      + b1 - QC checks applied \n",
    "      + b2 to b9 - further processing on b1 level data that does not merit c1 classification\n",
    "      + c0 - intermediate value-added data product; this data level is always used as input to a higher level \"VAP\"\n",
    "      + c1 - derived or calculated value-added data product (VAP) using one or more measured or modeled data (a0 to c1) as input\n",
    "      + c2 to c9 - further processing applied to a \"c1\" level data stream\n",
    "      + s1 - summary file consisting of a subset of the parent .c1 file with simplified QC and known 'bad' values set to missing\n",
    "      + s2 - summary file consisting of a further - processed s1 data.\n",
    "  \n",
    "  ---\n",
    "  \n",
    "  \n",
    "** (sss)(nn)(inst)(qqq)(Fn).(dl): MUST be 33 characters or less. **\n",
    "\n",
    "\n",
    "**\"The TOTAL length of a filename sent to the Archive MUST be 61 characters or less.\"**\n",
    "\n",
    "\n",
    "\n",
    "#### Raw Data ####\n",
    "\n",
    "\n",
    "Raw data files shall be named according to the following naming convention:\n",
    "\n",
    "\n",
    "xxxx.zzz --> is the original raw data file name produced on the instrument \n",
    "\n",
    "** (sss)(inst)(Fn).00.YYYYMMDD.hhmmss.raw.(xxxx.zzz)**\n",
    "xxxx.zzz is the original raw data file name produced on the instrument\n",
    "\n",
    "##### Examples #####\n",
    "\n",
    "File name: sgpmetE13.b1.20140218.000000.cdf\n",
    "\n",
    "\n",
    "site: sgp\n",
    "inst (instrument): met\n",
    "qualifier: none provided\n",
    "temporal: none provided\n",
    "facility id: E13 (Extended) \n",
    "data level: b1\n",
    "\n",
    "\n",
    "An example raw data file name is:\n",
    "\n",
    "nsamwrC1.00.20021109.140000.raw.20_20021109_140000.dat\n",
    "\n",
    "This file is from the North Slope of Alaska Barrow site. It contains raw microwave radiometer data for November 9, 2002, for the hour beginning 140000. Most raw instrument data are collected hourly resulting in 24 raw data files per day. \n",
    "\n",
    "\n",
    "\n"
   ]
  },
  {
   "cell_type": "markdown",
   "metadata": {},
   "source": [
    "# Using Python with ARM netCDF Files #\n"
   ]
  },
  {
   "cell_type": "markdown",
   "metadata": {},
   "source": [
    "\n",
    "Firstly , we will use Python to interact with ARM data in netCDF files. We will open our first netCDF file. \n",
    "\n",
    "You can grab the netCDF file [here](http://dev.arm.gov/~monroe/ARM_netCDF_tutorial_files/sgpmetE13.b1.20140218.000000.cdf)\n",
    "\n",
    "We must import the dataset class from the 3rd-party [netCDF4](http://netcdf4-python.googlecode.com/svn/trunk/docs/netCDF4-module.html) module before opening a netCDF file in Python.\n",
    "\n",
    "For install netCDF4, we will use ANACONDA. For this, just open anaconda console and run the following command:\n",
    "\n",
    "*conda install netcdf4*\n",
    "\n",
    "\n",
    "Now we can view the structure of our netCDF example file.\n",
    "\n",
    "\n",
    "\n",
    "\n"
   ]
  },
  {
   "cell_type": "code",
   "execution_count": 1,
   "metadata": {
    "collapsed": false,
    "scrolled": false
   },
   "outputs": [
    {
     "ename": "ImportError",
     "evalue": "No module named netCDF4",
     "output_type": "error",
     "traceback": [
      "\u001b[1;31m---------------------------------------------------------------------------\u001b[0m",
      "\u001b[1;31mImportError\u001b[0m                               Traceback (most recent call last)",
      "\u001b[1;32m<ipython-input-1-f058487b1fca>\u001b[0m in \u001b[0;36m<module>\u001b[1;34m()\u001b[0m\n\u001b[0;32m      1\u001b[0m \u001b[1;31m# here we are importing 3rd-party module to read netCDF files\u001b[0m\u001b[1;33m\u001b[0m\u001b[1;33m\u001b[0m\u001b[0m\n\u001b[1;32m----> 2\u001b[1;33m \u001b[1;32mfrom\u001b[0m \u001b[0mnetCDF4\u001b[0m \u001b[1;32mimport\u001b[0m \u001b[0mDataset\u001b[0m\u001b[1;33m\u001b[0m\u001b[0m\n\u001b[0m\u001b[0;32m      3\u001b[0m \u001b[1;33m\u001b[0m\u001b[0m\n\u001b[0;32m      4\u001b[0m \u001b[1;31m#Our example file\u001b[0m\u001b[1;33m\u001b[0m\u001b[1;33m\u001b[0m\u001b[0m\n\u001b[0;32m      5\u001b[0m \u001b[0mfile_name\u001b[0m \u001b[1;33m=\u001b[0m \u001b[1;34m'sgpmetE13.b1.20140218.000000.cdf'\u001b[0m\u001b[1;33m\u001b[0m\u001b[0m\n",
      "\u001b[1;31mImportError\u001b[0m: No module named netCDF4"
     ]
    }
   ],
   "source": [
    "# here we are importing 3rd-party module to read netCDF files\n",
    "from netCDF4 import Dataset\n",
    "\n",
    "#Our example file\n",
    "file_name = 'sgpmetE13.b1.20140218.000000.cdf'\n",
    "#file_name = 'sgpmetE13.b1.20140218.000000.cdf'\n",
    "\n",
    "# Now we need to use Dataset function to create an object reference to the open netCDF file\n",
    "file_obj = Dataset(file_name)\n",
    "\n",
    "#printing the file objects display the python type, global attributes, file dimensions, and variables\n",
    "\n",
    "print(file_obj)\n"
   ]
  },
  {
   "cell_type": "code",
   "execution_count": 3,
   "metadata": {
    "collapsed": false,
    "scrolled": true
   },
   "outputs": [
    {
     "name": "stdout",
     "output_type": "stream",
     "text": [
      "[u'command_line', u'process_version', u'dod_version', u'site_id', u'facility_id', u'data_level', u'input_source', u'sampling_interval', u'averaging_interval', u'averaging_interval_comment', u'serial_number', u'tbrg', u'pwd', u'wind_speed_offset', u'wind_speed_slope', u'tbrg_precip_corr_info', u'qc_standards_version', u'qc_method', u'qc_comment', u'qc_bit_1_description', u'qc_bit_1_assessment', u'qc_bit_2_description', u'qc_bit_2_assessment', u'qc_bit_3_description', u'qc_bit_3_assessment', u'qc_bit_4_description', u'qc_bit_4_assessment', u'zeb_platform', u'history']\n"
     ]
    }
   ],
   "source": [
    "# We can also print only global attributes \n",
    "print(file_obj.ncattrs())"
   ]
  },
  {
   "cell_type": "code",
   "execution_count": 4,
   "metadata": {
    "collapsed": false,
    "scrolled": true
   },
   "outputs": [
    {
     "name": "stdout",
     "output_type": "stream",
     "text": [
      "created by user dsmgr on machine iron at 18-Feb-2014,0:21:01, using $State: zebra-zeblib-4.23-0.el5 $\n"
     ]
    }
   ],
   "source": [
    "# and we can access a global attribute, using two methods:\n",
    "\n",
    "# method 1\n",
    "print(file_obj.history)"
   ]
  },
  {
   "cell_type": "code",
   "execution_count": 5,
   "metadata": {
    "collapsed": false,
    "scrolled": true
   },
   "outputs": [
    {
     "name": "stdout",
     "output_type": "stream",
     "text": [
      "created by user dsmgr on machine iron at 18-Feb-2014,0:21:01, using $State: zebra-zeblib-4.23-0.el5 $\n"
     ]
    }
   ],
   "source": [
    "#method 2\n",
    "# this method is preferable if we need to loop over multiple attribute names\n",
    "print(file_obj.getncattr('history'))"
   ]
  },
  {
   "cell_type": "code",
   "execution_count": 6,
   "metadata": {
    "collapsed": false,
    "scrolled": true
   },
   "outputs": [
    {
     "name": "stdout",
     "output_type": "stream",
     "text": [
      "[u'time']\n"
     ]
    }
   ],
   "source": [
    "# We can print the list of file dimensions names to the screen (reminder = 'u' means unicode string)\n",
    "print(file_obj.dimensions.keys())"
   ]
  },
  {
   "cell_type": "code",
   "execution_count": 7,
   "metadata": {
    "collapsed": false,
    "scrolled": true
   },
   "outputs": [
    {
     "name": "stdout",
     "output_type": "stream",
     "text": [
      "[u'base_time', u'time_offset', u'time', u'qc_time', u'atmos_pressure', u'qc_atmos_pressure', u'temp_mean', u'qc_temp_mean', u'temp_std', u'rh_mean', u'qc_rh_mean', u'rh_std', u'vapor_pressure_mean', u'qc_vapor_pressure_mean', u'vapor_pressure_std', u'wspd_arith_mean', u'qc_wspd_arith_mean', u'wspd_vec_mean', u'qc_wspd_vec_mean', u'wdir_vec_mean', u'qc_wdir_vec_mean', u'wdir_vec_std', u'tbrg_precip_total', u'qc_tbrg_precip_total', u'tbrg_precip_total_corr', u'qc_tbrg_precip_total_corr', u'pwd_err_code', u'pwd_mean_vis_1min', u'qc_pwd_mean_vis_1min', u'pwd_mean_vis_10min', u'qc_pwd_mean_vis_10min', u'pwd_pw_code_inst', u'qc_pwd_pw_code_inst', u'pwd_pw_code_15min', u'qc_pwd_pw_code_15min', u'pwd_pw_code_1hr', u'qc_pwd_pw_code_1hr', u'pwd_precip_rate_mean_1min', u'qc_pwd_precip_rate_mean_1min', u'pwd_cumul_rain', u'qc_pwd_cumul_rain', u'pwd_cumul_snow', u'qc_pwd_cumul_snow', u'logger_volt', u'qc_logger_volt', u'logger_temp', u'qc_logger_temp', u'lat', u'lon', u'alt']\n"
     ]
    }
   ],
   "source": [
    "# print list of variables names to screen \n",
    "print(file_obj.variables.keys())"
   ]
  },
  {
   "cell_type": "code",
   "execution_count": 25,
   "metadata": {
    "collapsed": false,
    "scrolled": true
   },
   "outputs": [
    {
     "name": "stdout",
     "output_type": "stream",
     "text": [
      "[ 13.47000027  13.43999958  13.46000004 ...,  18.93000031  18.98999977\n",
      "  19.11000061]\n",
      "(u'time',)\n",
      "\n",
      " - VARIABLE:  base_time\n",
      "attrs of this variable: [u'string', u'long_name', u'units']\n",
      "<<attr name>> = string\n",
      "<<attr value>> = 17-Feb-2014,23:07:00 GMT\n",
      "<<attr name>> = long_name\n",
      "<<attr value>> = Base time in Epoch\n",
      "<<attr name>> = units\n",
      "<<attr value>> = seconds since 1970-1-1 0:00:00 0:00\n",
      "\n",
      " - VARIABLE:  time_offset\n",
      "attrs of this variable: [u'long_name', u'units']\n",
      "<<attr name>> = long_name\n",
      "<<attr value>> = Time offset from base_time\n",
      "<<attr name>> = units\n",
      "<<attr value>> = seconds since 2014-02-17 23:07:00 0:00\n",
      "\n",
      " - VARIABLE:  time\n",
      "attrs of this variable: [u'long_name', u'units']\n",
      "<<attr name>> = long_name\n",
      "<<attr value>> = Time offset from midnight\n",
      "<<attr name>> = units\n",
      "<<attr value>> = seconds since 2014-02-18 00:00:00 0:00\n",
      "\n",
      " - VARIABLE:  qc_time\n",
      "attrs of this variable: [u'long_name', u'units', u'description', u'bit_1_description', u'bit_1_assessment', u'bit_2_description', u'bit_2_assessment', u'bit_3_description', u'bit_3_assessment', u'delta_t_lower_limit', u'delta_t_upper_limit', u'prior_sample_flag', u'comment']\n",
      "<<attr name>> = long_name\n",
      "<<attr value>> = Quality check results on field: Time offset from midnight\n",
      "<<attr name>> = units\n",
      "<<attr value>> = unitless\n",
      "<<attr name>> = description\n",
      "<<attr value>> = This field contains bit packed values which should be interpreted as listed. No bits set (zero) represents good data.\n",
      "<<attr name>> = bit_1_description\n",
      "<<attr value>> = Delta time between current and previous samples is zero.\n",
      "<<attr name>> = bit_1_assessment\n",
      "<<attr value>> = Indeterminate\n",
      "<<attr name>> = bit_2_description\n",
      "<<attr value>> = Delta time between current and previous samples is less than the delta_t_lower_limit field attribute.\n",
      "<<attr name>> = bit_2_assessment\n",
      "<<attr value>> = Indeterminate\n",
      "<<attr name>> = bit_3_description\n",
      "<<attr value>> = Delta time between current and previous samples is greater than the delta_t_upper_limit field attribute.\n",
      "<<attr name>> = bit_3_assessment\n",
      "<<attr value>> = Indeterminate\n",
      "<<attr name>> = delta_t_lower_limit\n",
      "<<attr value>> = 60.0\n",
      "<<attr name>> = delta_t_upper_limit\n",
      "<<attr value>> = 60.0\n",
      "<<attr name>> = prior_sample_flag\n",
      "<<attr value>> = 1\n",
      "<<attr name>> = comment\n",
      "<<attr value>> = If the 'prior_sample_flag' is set the first sample time from a new raw file will be compared against the time just previous to it in the stored data. If it is not set the qc_time value for the first sample will be set to 0.\n",
      "\n",
      " - VARIABLE:  atmos_pressure\n",
      "attrs of this variable: [u'long_name', u'units', u'valid_min', u'valid_max', u'valid_delta', u'missing_value']\n",
      "<<attr name>> = long_name\n",
      "<<attr value>> = Atmospheric pressure\n",
      "<<attr name>> = units\n",
      "<<attr value>> = kPa\n",
      "<<attr name>> = valid_min\n",
      "<<attr value>> = 80.0\n",
      "<<attr name>> = valid_max\n",
      "<<attr value>> = 110.0\n",
      "<<attr name>> = valid_delta\n",
      "<<attr value>> = 1.0\n",
      "<<attr name>> = missing_value\n",
      "<<attr value>> = -9999.0\n",
      "\n",
      " - VARIABLE:  qc_atmos_pressure\n",
      "attrs of this variable: [u'long_name', u'units', u'description']\n",
      "<<attr name>> = long_name\n",
      "<<attr value>> = Quality check results on field: Atmospheric pressure\n",
      "<<attr name>> = units\n",
      "<<attr value>> = unitless\n",
      "<<attr name>> = description\n",
      "<<attr value>> = See global attributes for individual bit descriptions.\n",
      "\n",
      " - VARIABLE:  temp_mean\n",
      "attrs of this variable: [u'long_name', u'units', u'valid_min', u'valid_max', u'valid_delta', u'missing_value']\n",
      "<<attr name>> = long_name\n",
      "<<attr value>> = Temperature mean\n",
      "<<attr name>> = units\n",
      "<<attr value>> = C\n",
      "<<attr name>> = valid_min\n",
      "<<attr value>> = -40.0\n",
      "<<attr name>> = valid_max\n",
      "<<attr value>> = 50.0\n",
      "<<attr name>> = valid_delta\n",
      "<<attr value>> = 20.0\n",
      "<<attr name>> = missing_value\n",
      "<<attr value>> = -9999.0\n",
      "\n",
      " - VARIABLE:  qc_temp_mean\n",
      "attrs of this variable: [u'long_name', u'units', u'description']\n",
      "<<attr name>> = long_name\n",
      "<<attr value>> = Quality check results on field: Temperature mean\n",
      "<<attr name>> = units\n",
      "<<attr value>> = unitless\n",
      "<<attr name>> = description\n",
      "<<attr value>> = See global attributes for individual bit descriptions.\n",
      "\n",
      " - VARIABLE:  temp_std\n",
      "attrs of this variable: [u'long_name', u'units']\n",
      "<<attr name>> = long_name\n",
      "<<attr value>> = Temperature standard deviation\n",
      "<<attr name>> = units\n",
      "<<attr value>> = C\n",
      "\n",
      " - VARIABLE:  rh_mean\n",
      "attrs of this variable: [u'long_name', u'units', u'valid_min', u'valid_max', u'valid_delta', u'missing_value']\n",
      "<<attr name>> = long_name\n",
      "<<attr value>> = Relative humidity mean\n",
      "<<attr name>> = units\n",
      "<<attr value>> = %\n",
      "<<attr name>> = valid_min\n",
      "<<attr value>> = -2.0\n",
      "<<attr name>> = valid_max\n",
      "<<attr value>> = 104.0\n",
      "<<attr name>> = valid_delta\n",
      "<<attr value>> = 30.0\n",
      "<<attr name>> = missing_value\n",
      "<<attr value>> = -9999.0\n",
      "\n",
      " - VARIABLE:  qc_rh_mean\n",
      "attrs of this variable: [u'long_name', u'units', u'description']\n",
      "<<attr name>> = long_name\n",
      "<<attr value>> = Quality check results on field: Relative humidity mean\n",
      "<<attr name>> = units\n",
      "<<attr value>> = unitless\n",
      "<<attr name>> = description\n",
      "<<attr value>> = See global attributes for individual bit descriptions.\n",
      "\n",
      " - VARIABLE:  rh_std\n",
      "attrs of this variable: [u'long_name', u'units']\n",
      "<<attr name>> = long_name\n",
      "<<attr value>> = Relative humidity standard deviation\n",
      "<<attr name>> = units\n",
      "<<attr value>> = %\n",
      "\n",
      " - VARIABLE:  vapor_pressure_mean\n",
      "attrs of this variable: [u'long_name', u'units', u'valid_min', u'valid_max', u'valid_delta', u'missing_value']\n",
      "<<attr name>> = long_name\n",
      "<<attr value>> = Vapor pressure mean, calculated\n",
      "<<attr name>> = units\n",
      "<<attr value>> = kPa\n",
      "<<attr name>> = valid_min\n",
      "<<attr value>> = 0.0\n",
      "<<attr name>> = valid_max\n",
      "<<attr value>> = 10.0\n",
      "<<attr name>> = valid_delta\n",
      "<<attr value>> = 1.0\n",
      "<<attr name>> = missing_value\n",
      "<<attr value>> = -9999.0\n",
      "\n",
      " - VARIABLE:  qc_vapor_pressure_mean\n",
      "attrs of this variable: [u'long_name', u'units', u'description']\n",
      "<<attr name>> = long_name\n",
      "<<attr value>> = Quality check results on field: Vapor pressure mean, calculated\n",
      "<<attr name>> = units\n",
      "<<attr value>> = unitless\n",
      "<<attr name>> = description\n",
      "<<attr value>> = See global attributes for individual bit descriptions.\n",
      "\n",
      " - VARIABLE:  vapor_pressure_std\n",
      "attrs of this variable: [u'long_name', u'units']\n",
      "<<attr name>> = long_name\n",
      "<<attr value>> = Vapor pressure standard deviation\n",
      "<<attr name>> = units\n",
      "<<attr value>> = kPa\n",
      "\n",
      " - VARIABLE:  wspd_arith_mean\n",
      "attrs of this variable: [u'long_name', u'units', u'valid_min', u'valid_max', u'valid_delta', u'missing_value']\n",
      "<<attr name>> = long_name\n",
      "<<attr value>> = Wind speed arithmetic mean\n",
      "<<attr name>> = units\n",
      "<<attr value>> = m/s\n",
      "<<attr name>> = valid_min\n",
      "<<attr value>> = 0.0\n",
      "<<attr name>> = valid_max\n",
      "<<attr value>> = 60.0\n",
      "<<attr name>> = valid_delta\n",
      "<<attr value>> = 20.0\n",
      "<<attr name>> = missing_value\n",
      "<<attr value>> = -9999.0\n",
      "\n",
      " - VARIABLE:  qc_wspd_arith_mean\n",
      "attrs of this variable: [u'long_name', u'units', u'description']\n",
      "<<attr name>> = long_name\n",
      "<<attr value>> = Quality check results on field: Wind speed arithmetic mean\n",
      "<<attr name>> = units\n",
      "<<attr value>> = unitless\n",
      "<<attr name>> = description\n",
      "<<attr value>> = See global attributes for individual bit descriptions.\n",
      "\n",
      " - VARIABLE:  wspd_vec_mean\n",
      "attrs of this variable: [u'long_name', u'units', u'valid_min', u'valid_max', u'valid_delta', u'missing_value']\n",
      "<<attr name>> = long_name\n",
      "<<attr value>> = Wind speed vector mean\n",
      "<<attr name>> = units\n",
      "<<attr value>> = m/s\n",
      "<<attr name>> = valid_min\n",
      "<<attr value>> = 0.0\n",
      "<<attr name>> = valid_max\n",
      "<<attr value>> = 60.0\n",
      "<<attr name>> = valid_delta\n",
      "<<attr value>> = 20.0\n",
      "<<attr name>> = missing_value\n",
      "<<attr value>> = -9999.0\n",
      "\n",
      " - VARIABLE:  qc_wspd_vec_mean\n",
      "attrs of this variable: [u'long_name', u'units', u'description']\n",
      "<<attr name>> = long_name\n",
      "<<attr value>> = Quality check results on field: Wind speed vector mean\n",
      "<<attr name>> = units\n",
      "<<attr value>> = unitless\n",
      "<<attr name>> = description\n",
      "<<attr value>> = See global attributes for individual bit descriptions.\n",
      "\n",
      " - VARIABLE:  wdir_vec_mean\n",
      "attrs of this variable: [u'long_name', u'units', u'valid_min', u'valid_max', u'missing_value']\n",
      "<<attr name>> = long_name\n",
      "<<attr value>> = Wind direction vector mean\n",
      "<<attr name>> = units\n",
      "<<attr value>> = deg\n",
      "<<attr name>> = valid_min\n",
      "<<attr value>> = 0.0\n",
      "<<attr name>> = valid_max\n",
      "<<attr value>> = 360.0\n",
      "<<attr name>> = missing_value\n",
      "<<attr value>> = -9999.0\n",
      "\n",
      " - VARIABLE:  qc_wdir_vec_mean\n",
      "attrs of this variable: [u'long_name', u'units', u'description']\n",
      "<<attr name>> = long_name\n",
      "<<attr value>> = Quality check results on field: Wind direction vector mean\n",
      "<<attr name>> = units\n",
      "<<attr value>> = unitless\n",
      "<<attr name>> = description\n",
      "<<attr value>> = See global attributes for individual bit descriptions.\n",
      "\n",
      " - VARIABLE:  wdir_vec_std\n",
      "attrs of this variable: [u'long_name', u'units', u'missing_value']\n",
      "<<attr name>> = long_name\n",
      "<<attr value>> = Wind direction vector mean standard deviation\n",
      "<<attr name>> = units\n",
      "<<attr value>> = deg\n",
      "<<attr name>> = missing_value\n",
      "<<attr value>> = -9999.0\n",
      "\n",
      " - VARIABLE:  tbrg_precip_total\n",
      "attrs of this variable: [u'long_name', u'units', u'valid_min', u'valid_max', u'missing_value']\n",
      "<<attr name>> = long_name\n",
      "<<attr value>> = TBRG precipitation total\n",
      "<<attr name>> = units\n",
      "<<attr value>> = mm\n",
      "<<attr name>> = valid_min\n",
      "<<attr value>> = 0.0\n",
      "<<attr name>> = valid_max\n",
      "<<attr value>> = 10.0\n",
      "<<attr name>> = missing_value\n",
      "<<attr value>> = -9999.0\n",
      "\n",
      " - VARIABLE:  qc_tbrg_precip_total\n",
      "attrs of this variable: [u'long_name', u'units', u'description']\n",
      "<<attr name>> = long_name\n",
      "<<attr value>> = Quality check results on field: TBRG precipitation total\n",
      "<<attr name>> = units\n",
      "<<attr value>> = unitless\n",
      "<<attr name>> = description\n",
      "<<attr value>> = See global attributes for individual bit descriptions.\n",
      "\n",
      " - VARIABLE:  tbrg_precip_total_corr\n",
      "attrs of this variable: [u'long_name', u'units', u'valid_min', u'valid_max', u'missing_value']\n",
      "<<attr name>> = long_name\n",
      "<<attr value>> = TBRG precipitation total, corrected\n",
      "<<attr name>> = units\n",
      "<<attr value>> = mm\n",
      "<<attr name>> = valid_min\n",
      "<<attr value>> = 0.0\n",
      "<<attr name>> = valid_max\n",
      "<<attr value>> = 10.0\n",
      "<<attr name>> = missing_value\n",
      "<<attr value>> = -9999.0\n",
      "\n",
      " - VARIABLE:  qc_tbrg_precip_total_corr\n",
      "attrs of this variable: [u'long_name', u'units', u'description']\n",
      "<<attr name>> = long_name\n",
      "<<attr value>> = Quality check results on field: TBRG precipitation total, corrected\n",
      "<<attr name>> = units\n",
      "<<attr value>> = unitless\n",
      "<<attr name>> = description\n",
      "<<attr value>> = See global attributes for individual bit descriptions.\n",
      "\n",
      " - VARIABLE:  pwd_err_code\n",
      "attrs of this variable: [u'long_name', u'units', u'missing_value']\n",
      "<<attr name>> = long_name\n",
      "<<attr value>> = PWD alarm\n",
      "<<attr name>> = units\n",
      "<<attr value>> = unitless\n",
      "<<attr name>> = missing_value\n",
      "<<attr value>> = -9999\n",
      "\n",
      " - VARIABLE:  pwd_mean_vis_1min\n",
      "attrs of this variable: [u'long_name', u'units', u'valid_min', u'valid_max', u'missing_value']\n",
      "<<attr name>> = long_name\n",
      "<<attr value>> = PWD 1 minute mean visibility\n",
      "<<attr name>> = units\n",
      "<<attr value>> = m\n",
      "<<attr name>> = valid_min\n",
      "<<attr value>> = 0\n",
      "<<attr name>> = valid_max\n",
      "<<attr value>> = 20000\n",
      "<<attr name>> = missing_value\n",
      "<<attr value>> = -9999\n",
      "\n",
      " - VARIABLE:  qc_pwd_mean_vis_1min\n",
      "attrs of this variable: [u'long_name', u'units', u'description']\n",
      "<<attr name>> = long_name\n",
      "<<attr value>> = Quality check results on field: PWD 1 minute mean visibility\n",
      "<<attr name>> = units\n",
      "<<attr value>> = unitless\n",
      "<<attr name>> = description\n",
      "<<attr value>> = See global attributes for individual bit descriptions.\n",
      "\n",
      " - VARIABLE:  pwd_mean_vis_10min\n",
      "attrs of this variable: [u'long_name', u'units', u'valid_min', u'valid_max', u'missing_value']\n",
      "<<attr name>> = long_name\n",
      "<<attr value>> = PWD 10 minute mean visibility\n",
      "<<attr name>> = units\n",
      "<<attr value>> = m\n",
      "<<attr name>> = valid_min\n",
      "<<attr value>> = 0\n",
      "<<attr name>> = valid_max\n",
      "<<attr value>> = 20000\n",
      "<<attr name>> = missing_value\n",
      "<<attr value>> = -9999\n",
      "\n",
      " - VARIABLE:  qc_pwd_mean_vis_10min\n",
      "attrs of this variable: [u'long_name', u'units', u'description']\n",
      "<<attr name>> = long_name\n",
      "<<attr value>> = Quality check results on field: PWD 10 minute mean visibility\n",
      "<<attr name>> = units\n",
      "<<attr value>> = unitless\n",
      "<<attr name>> = description\n",
      "<<attr value>> = See global attributes for individual bit descriptions.\n",
      "\n",
      " - VARIABLE:  pwd_pw_code_inst\n",
      "attrs of this variable: [u'long_name', u'units', u'valid_min', u'valid_max', u'missing_value']\n",
      "<<attr name>> = long_name\n",
      "<<attr value>> = PWD instantaneous present weather code\n",
      "<<attr name>> = units\n",
      "<<attr value>> = unitless\n",
      "<<attr name>> = valid_min\n",
      "<<attr value>> = 0\n",
      "<<attr name>> = valid_max\n",
      "<<attr value>> = 99\n",
      "<<attr name>> = missing_value\n",
      "<<attr value>> = -9999\n",
      "\n",
      " - VARIABLE:  qc_pwd_pw_code_inst\n",
      "attrs of this variable: [u'long_name', u'units', u'description']\n",
      "<<attr name>> = long_name\n",
      "<<attr value>> = Quality check results on field: PWD instantaneous present weather code\n",
      "<<attr name>> = units\n",
      "<<attr value>> = unitless\n",
      "<<attr name>> = description\n",
      "<<attr value>> = See global attributes for individual bit descriptions.\n",
      "\n",
      " - VARIABLE:  pwd_pw_code_15min\n",
      "attrs of this variable: [u'long_name', u'units', u'valid_min', u'valid_max', u'missing_value']\n",
      "<<attr name>> = long_name\n",
      "<<attr value>> = PWD 15 minute present weather code\n",
      "<<attr name>> = units\n",
      "<<attr value>> = unitless\n",
      "<<attr name>> = valid_min\n",
      "<<attr value>> = 0\n",
      "<<attr name>> = valid_max\n",
      "<<attr value>> = 99\n",
      "<<attr name>> = missing_value\n",
      "<<attr value>> = -9999\n",
      "\n",
      " - VARIABLE:  qc_pwd_pw_code_15min\n",
      "attrs of this variable: [u'long_name', u'units', u'description']\n",
      "<<attr name>> = long_name\n",
      "<<attr value>> = Quality check results on field: PWD 15 minute present weather code\n",
      "<<attr name>> = units\n",
      "<<attr value>> = unitless\n",
      "<<attr name>> = description\n",
      "<<attr value>> = See global attributes for individual bit descriptions.\n",
      "\n",
      " - VARIABLE:  pwd_pw_code_1hr\n",
      "attrs of this variable: [u'long_name', u'units', u'valid_min', u'valid_max', u'missing_value']\n",
      "<<attr name>> = long_name\n",
      "<<attr value>> = PWD 1 hour present weather code\n",
      "<<attr name>> = units\n",
      "<<attr value>> = unitless\n",
      "<<attr name>> = valid_min\n",
      "<<attr value>> = 0\n",
      "<<attr name>> = valid_max\n",
      "<<attr value>> = 99\n",
      "<<attr name>> = missing_value\n",
      "<<attr value>> = -9999\n",
      "\n",
      " - VARIABLE:  qc_pwd_pw_code_1hr\n",
      "attrs of this variable: [u'long_name', u'units', u'description']\n",
      "<<attr name>> = long_name\n",
      "<<attr value>> = Quality check results on field: PWD 1 hour present weather code\n",
      "<<attr name>> = units\n",
      "<<attr value>> = unitless\n",
      "<<attr name>> = description\n",
      "<<attr value>> = See global attributes for individual bit descriptions.\n",
      "\n",
      " - VARIABLE:  pwd_precip_rate_mean_1min\n",
      "attrs of this variable: [u'long_name', u'units', u'valid_min', u'valid_max', u'valid_delta', u'missing_value']\n",
      "<<attr name>> = long_name\n",
      "<<attr value>> = PWD 1 minute mean precipitation rate\n",
      "<<attr name>> = units\n",
      "<<attr value>> = mm/hr\n",
      "<<attr name>> = valid_min\n",
      "<<attr value>> = 0.0\n",
      "<<attr name>> = valid_max\n",
      "<<attr value>> = 999.99\n",
      "<<attr name>> = valid_delta\n",
      "<<attr value>> = 100.0\n",
      "<<attr name>> = missing_value\n",
      "<<attr value>> = -9999.0\n",
      "\n",
      " - VARIABLE:  qc_pwd_precip_rate_mean_1min\n",
      "attrs of this variable: [u'long_name', u'units', u'description']\n",
      "<<attr name>> = long_name\n",
      "<<attr value>> = Quality check results on field: PWD 1 minute mean precipitation rate\n",
      "<<attr name>> = units\n",
      "<<attr value>> = unitless\n",
      "<<attr name>> = description\n",
      "<<attr value>> = See global attributes for individual bit descriptions.\n",
      "\n",
      " - VARIABLE:  pwd_cumul_rain\n",
      "attrs of this variable: [u'long_name', u'units', u'valid_min', u'valid_max', u'valid_delta', u'missing_value']\n",
      "<<attr name>> = long_name\n",
      "<<attr value>> = PWD cumulative liquid precipitation\n",
      "<<attr name>> = units\n",
      "<<attr value>> = mm\n",
      "<<attr name>> = valid_min\n",
      "<<attr value>> = 0.0\n",
      "<<attr name>> = valid_max\n",
      "<<attr value>> = 99.99\n",
      "<<attr name>> = valid_delta\n",
      "<<attr value>> = 50.0\n",
      "<<attr name>> = missing_value\n",
      "<<attr value>> = -9999.0\n",
      "\n",
      " - VARIABLE:  qc_pwd_cumul_rain\n",
      "attrs of this variable: [u'long_name', u'units', u'description']\n",
      "<<attr name>> = long_name\n",
      "<<attr value>> = Quality check results on field: PWD cumulative liquid precipitation\n",
      "<<attr name>> = units\n",
      "<<attr value>> = unitless\n",
      "<<attr name>> = description\n",
      "<<attr value>> = See global attributes for individual bit descriptions.\n",
      "\n",
      " - VARIABLE:  pwd_cumul_snow\n",
      "attrs of this variable: [u'long_name', u'units', u'valid_min', u'valid_max', u'valid_delta', u'missing_value']\n",
      "<<attr name>> = long_name\n",
      "<<attr value>> = PWD cumulative snow\n",
      "<<attr name>> = units\n",
      "<<attr value>> = mm\n",
      "<<attr name>> = valid_min\n",
      "<<attr value>> = 0.0\n",
      "<<attr name>> = valid_max\n",
      "<<attr value>> = 999.0\n",
      "<<attr name>> = valid_delta\n",
      "<<attr value>> = 100.0\n",
      "<<attr name>> = missing_value\n",
      "<<attr value>> = -9999.0\n",
      "\n",
      " - VARIABLE:  qc_pwd_cumul_snow\n",
      "attrs of this variable: [u'long_name', u'units', u'description']\n",
      "<<attr name>> = long_name\n",
      "<<attr value>> = Quality check results on field: PWD cumulative snow\n",
      "<<attr name>> = units\n",
      "<<attr value>> = unitless\n",
      "<<attr name>> = description\n",
      "<<attr value>> = See global attributes for individual bit descriptions.\n",
      "\n",
      " - VARIABLE:  logger_volt\n",
      "attrs of this variable: [u'long_name', u'units', u'missing_value', u'valid_min', u'valid_max', u'valid_delta']\n",
      "<<attr name>> = long_name\n",
      "<<attr value>> = Logger voltage\n",
      "<<attr name>> = units\n",
      "<<attr value>> = V\n",
      "<<attr name>> = missing_value\n",
      "<<attr value>> = -9999.0\n",
      "<<attr name>> = valid_min\n",
      "<<attr value>> = 10.0\n",
      "<<attr name>> = valid_max\n",
      "<<attr value>> = 15.0\n",
      "<<attr name>> = valid_delta\n",
      "<<attr value>> = 5.0\n",
      "\n",
      " - VARIABLE:  qc_logger_volt\n",
      "attrs of this variable: [u'long_name', u'units', u'description']\n",
      "<<attr name>> = long_name\n",
      "<<attr value>> = Quality check results on field: Logger voltage\n",
      "<<attr name>> = units\n",
      "<<attr value>> = unitless\n",
      "<<attr name>> = description\n",
      "<<attr value>> = See global attributes for individual bit descriptions.\n",
      "\n",
      " - VARIABLE:  logger_temp\n",
      "attrs of this variable: [u'long_name', u'units', u'missing_value', u'valid_min', u'valid_max', u'valid_delta']\n",
      "<<attr name>> = long_name\n",
      "<<attr value>> = Logger temperature\n",
      "<<attr name>> = units\n",
      "<<attr value>> = C\n",
      "<<attr name>> = missing_value\n",
      "<<attr value>> = -9999.0\n",
      "<<attr name>> = valid_min\n",
      "<<attr value>> = -25.0\n",
      "<<attr name>> = valid_max\n",
      "<<attr value>> = 50.0\n",
      "<<attr name>> = valid_delta\n",
      "<<attr value>> = 10.0\n",
      "\n",
      " - VARIABLE:  qc_logger_temp\n",
      "attrs of this variable: [u'long_name', u'units', u'description']\n",
      "<<attr name>> = long_name\n",
      "<<attr value>> = Quality check results on field: Logger temperature\n",
      "<<attr name>> = units\n",
      "<<attr value>> = unitless\n",
      "<<attr name>> = description\n",
      "<<attr value>> = See global attributes for individual bit descriptions.\n",
      "\n",
      " - VARIABLE:  lat\n",
      "attrs of this variable: [u'long_name', u'units', u'valid_min', u'valid_max']\n",
      "<<attr name>> = long_name\n",
      "<<attr value>> = North latitude\n",
      "<<attr name>> = units\n",
      "<<attr value>> = degree_N\n",
      "<<attr name>> = valid_min\n",
      "<<attr value>> = -90.0\n",
      "<<attr name>> = valid_max\n",
      "<<attr value>> = 90.0\n",
      "\n",
      " - VARIABLE:  lon\n",
      "attrs of this variable: [u'long_name', u'units', u'valid_min', u'valid_max']\n",
      "<<attr name>> = long_name\n",
      "<<attr value>> = East longitude\n",
      "<<attr name>> = units\n",
      "<<attr value>> = degree_E\n",
      "<<attr name>> = valid_min\n",
      "<<attr value>> = -180.0\n",
      "<<attr name>> = valid_max\n",
      "<<attr value>> = 180.0\n",
      "\n",
      " - VARIABLE:  alt\n",
      "attrs of this variable: [u'long_name', u'units']\n",
      "<<attr name>> = long_name\n",
      "<<attr value>> = Altitude above mean sea level\n",
      "<<attr name>> = units\n",
      "<<attr value>> = m\n"
     ]
    }
   ],
   "source": [
    "# we can load information from temperature variable into object\n",
    "temp_obj = file_obj.variables['temp_mean']\n",
    "\n",
    "\n",
    "#OR\n",
    "#to access a variable we use the name of the variable as a dictionary key\n",
    "print(file_obj.variables['temp_mean'][:])\n",
    "\n",
    "#we can also find how a particular variable is stored, using dimensions attribute\n",
    "print(file_obj.variables['vapor_pressure_mean'].dimensions)\n",
    "\n",
    "# We can view the attributes of a variable\n",
    "#print(file_obj.variables['vapor_pressure_mean'].ncattrs())\n",
    "\n",
    "# We can obtain all variables attributes\n",
    "for var in file_obj.variables.values():\n",
    "    print '\\n - VARIABLE: ', var.name\n",
    "    print 'attrs of this variable:',var.ncattrs()\n",
    "    for attr in var.ncattrs():\n",
    "        print '<<attr name>> =', attr\n",
    "        print '<<attr value>> =',getattr(var,attr)\n",
    "\n",
    "#print information about the temperature variable\n",
    "#print(temp_obj)"
   ]
  },
  {
   "cell_type": "code",
   "execution_count": 26,
   "metadata": {
    "collapsed": false,
    "scrolled": true
   },
   "outputs": [
    {
     "name": "stdout",
     "output_type": "stream",
     "text": [
      "Temperature mean\n"
     ]
    }
   ],
   "source": [
    "# We can loop over multiple attribute names\n",
    "print(temp_obj.getncattr('long_name'))"
   ]
  },
  {
   "cell_type": "code",
   "execution_count": 15,
   "metadata": {
    "collapsed": false,
    "scrolled": true
   },
   "outputs": [
    {
     "name": "stdout",
     "output_type": "stream",
     "text": [
      "[ 13.47000027  13.43999958  13.46000004 ...,  18.93000031  18.98999977\n",
      "  19.11000061]\n"
     ]
    }
   ],
   "source": [
    "# We can print the data stored in the temp_mean variable\n",
    "# [:] represents an array slice that includes the entire array\n",
    "\n",
    "print(temp_obj[:])"
   ]
  },
  {
   "cell_type": "code",
   "execution_count": 16,
   "metadata": {
    "collapsed": false,
    "scrolled": true
   },
   "outputs": [
    {
     "name": "stdout",
     "output_type": "stream",
     "text": [
      "1440\n"
     ]
    }
   ],
   "source": [
    "print(len(temp_obj[:]))"
   ]
  },
  {
   "cell_type": "markdown",
   "metadata": {},
   "source": [
    "## Working with the data ##"
   ]
  },
  {
   "cell_type": "markdown",
   "metadata": {},
   "source": [
    "Python lists and numpy arrays use zero-based indexing. All data read from a varialbe in an ARM netCDF file are automatically stored as numpy arrays.\n",
    "\n",
    "\n",
    "\n",
    "\n"
   ]
  },
  {
   "cell_type": "code",
   "execution_count": 28,
   "metadata": {
    "collapsed": false,
    "scrolled": true
   },
   "outputs": [
    {
     "name": "stdout",
     "output_type": "stream",
     "text": [
      "[ 13.47000027  13.43999958  13.46000004  13.51000023  13.52999973\n",
      "  13.56999969  13.64000034  13.64000034]\n"
     ]
    }
   ],
   "source": [
    "#In this example, we start storing the temp_mean data in a variable\n",
    "\n",
    "temp = temp_obj[:]\n",
    "\n",
    "#display the first 8 values\n",
    "print(temp[:8])"
   ]
  },
  {
   "cell_type": "code",
   "execution_count": 18,
   "metadata": {
    "collapsed": false,
    "scrolled": true
   },
   "outputs": [
    {
     "name": "stdout",
     "output_type": "stream",
     "text": [
      "[ 19.20000076  19.18000031  19.11000061  19.03000069  18.96999931\n",
      "  18.93000031  18.98999977  19.11000061]\n"
     ]
    }
   ],
   "source": [
    "# We cal also print the last 8 values\n",
    "print(temp[-8:])"
   ]
  },
  {
   "cell_type": "code",
   "execution_count": 34,
   "metadata": {
    "collapsed": false,
    "scrolled": true
   },
   "outputs": [
    {
     "name": "stdout",
     "output_type": "stream",
     "text": [
      "[ 13.47000027  13.43999958  13.46000004]\n"
     ]
    }
   ],
   "source": [
    "# we can create a new array with the first 3 values in temp\n",
    "new_temp = temp[:3]\n",
    "print(new_temp)\n",
    "\n"
   ]
  },
  {
   "cell_type": "code",
   "execution_count": 29,
   "metadata": {
    "collapsed": false,
    "scrolled": true
   },
   "outputs": [
    {
     "data": {
      "text/plain": [
       "<type 'netCDF4._netCDF4.Variable'>\n",
       "float32 temp_mean(time)\n",
       "    long_name: Temperature mean\n",
       "    units: C\n",
       "    valid_min: -40.0\n",
       "    valid_max: 50.0\n",
       "    valid_delta: 20.0\n",
       "    missing_value: -9999.0\n",
       "unlimited dimensions: time\n",
       "current shape = (1440,)\n",
       "filling off"
      ]
     },
     "execution_count": 29,
     "metadata": {},
     "output_type": "execute_result"
    }
   ],
   "source": [
    "# Do you remember? Was temperature record in Celsius or Fahrenheit?\n",
    "#let's find it out!\n",
    "\n",
    "#remember: we can see variable description with variables[...]\n",
    "file_obj.variables['temp_mean']"
   ]
  },
  {
   "cell_type": "code",
   "execution_count": 21,
   "metadata": {
    "collapsed": false,
    "scrolled": true
   },
   "outputs": [
    {
     "name": "stdout",
     "output_type": "stream",
     "text": [
      "[ 56.2460022   56.19200134  56.22799683]\n"
     ]
    }
   ],
   "source": [
    "#It was recorded in Celsius. So, let's convert it to Fahrenheit\n",
    "f_temp = (new_temp * 1.8) + 32\n",
    "print(f_temp)"
   ]
  },
  {
   "cell_type": "code",
   "execution_count": 22,
   "metadata": {
    "collapsed": false,
    "scrolled": true
   },
   "outputs": [
    {
     "name": "stdout",
     "output_type": "stream",
     "text": [
      "[ 1.90699995  1.74699998  1.61099994  1.47500002  1.40499997  1.35699999\n",
      "  1.39999998  1.50999999  1.69299996  1.99199998  1.79499996  1.88300002\n",
      "  1.78699994  1.38100004  1.18200004  1.09599996  1.02499998  0.94099998\n",
      "  0.90200001  1.05900002  1.17299998  1.18599999  1.36699998  1.43799996\n",
      "  1.50600004  1.58399999  1.653       1.65799999  1.61600006  1.72800004\n",
      "  1.86399996  1.96000004]\n"
     ]
    }
   ],
   "source": [
    "# print all temp values < 2 Celsius\n",
    "print(temp[temp < 2])"
   ]
  },
  {
   "cell_type": "markdown",
   "metadata": {},
   "source": [
    "In python everything is technically an object! There are functions associated with every variable. This easily allows us to do useful things with data. We can use the built-in **dir()** method to get a list of methods and attributes associated with any variable.\n"
   ]
  },
  {
   "cell_type": "code",
   "execution_count": 23,
   "metadata": {
    "collapsed": false,
    "scrolled": true
   },
   "outputs": [
    {
     "name": "stdout",
     "output_type": "stream",
     "text": [
      "['T', '__abs__', '__add__', '__and__', '__array__', '__array_finalize__', '__array_interface__', '__array_prepare__', '__array_priority__', '__array_struct__', '__array_wrap__', '__class__', '__contains__', '__copy__', '__deepcopy__', '__delattr__', '__delitem__', '__delslice__', '__div__', '__divmod__', '__doc__', '__eq__', '__float__', '__floordiv__', '__format__', '__ge__', '__getattribute__', '__getitem__', '__getslice__', '__gt__', '__hash__', '__hex__', '__iadd__', '__iand__', '__idiv__', '__ifloordiv__', '__ilshift__', '__imod__', '__imul__', '__index__', '__init__', '__int__', '__invert__', '__ior__', '__ipow__', '__irshift__', '__isub__', '__iter__', '__itruediv__', '__ixor__', '__le__', '__len__', '__long__', '__lshift__', '__lt__', '__mod__', '__mul__', '__ne__', '__neg__', '__new__', '__nonzero__', '__oct__', '__or__', '__pos__', '__pow__', '__radd__', '__rand__', '__rdiv__', '__rdivmod__', '__reduce__', '__reduce_ex__', '__repr__', '__rfloordiv__', '__rlshift__', '__rmod__', '__rmul__', '__ror__', '__rpow__', '__rrshift__', '__rshift__', '__rsub__', '__rtruediv__', '__rxor__', '__setattr__', '__setitem__', '__setslice__', '__setstate__', '__sizeof__', '__str__', '__sub__', '__subclasshook__', '__truediv__', '__xor__', 'all', 'any', 'argmax', 'argmin', 'argpartition', 'argsort', 'astype', 'base', 'byteswap', 'choose', 'clip', 'compress', 'conj', 'conjugate', 'copy', 'ctypes', 'cumprod', 'cumsum', 'data', 'diagonal', 'dot', 'dtype', 'dump', 'dumps', 'fill', 'flags', 'flat', 'flatten', 'getfield', 'imag', 'item', 'itemset', 'itemsize', 'max', 'mean', 'min', 'nbytes', 'ndim', 'newbyteorder', 'nonzero', 'partition', 'prod', 'ptp', 'put', 'ravel', 'real', 'repeat', 'reshape', 'resize', 'round', 'searchsorted', 'setfield', 'setflags', 'shape', 'size', 'sort', 'squeeze', 'std', 'strides', 'sum', 'swapaxes', 'take', 'tobytes', 'tofile', 'tolist', 'tostring', 'trace', 'transpose', 'var', 'view']\n"
     ]
    }
   ],
   "source": [
    "print(dir(temp))"
   ]
  },
  {
   "cell_type": "code",
   "execution_count": 24,
   "metadata": {
    "collapsed": false,
    "scrolled": true
   },
   "outputs": [
    {
     "name": "stdout",
     "output_type": "stream",
     "text": [
      "0.902\n",
      "23.29\n",
      "10.6657\n",
      "7.03804\n",
      "15358.6\n"
     ]
    }
   ],
   "source": [
    "# Printing basic temperature statistics\n",
    "print(temp.min())\n",
    "print(temp.max())\n",
    "print(temp.mean())\n",
    "print(temp.std())\n",
    "print(temp.sum())"
   ]
  },
  {
   "cell_type": "markdown",
   "metadata": {},
   "source": [
    "## Basic line plot with matplotlib ##"
   ]
  },
  {
   "cell_type": "markdown",
   "metadata": {},
   "source": [
    "We will use the **temp** variable previously loaded into memory above to create a simple line plot using [matplotlib](http://matplotlib.org/). "
   ]
  },
  {
   "cell_type": "code",
   "execution_count": 25,
   "metadata": {
    "collapsed": false,
    "scrolled": true
   },
   "outputs": [
    {
     "data": {
      "text/plain": [
       "<matplotlib.text.Text at 0xe0f5c50>"
      ]
     },
     "execution_count": 25,
     "metadata": {},
     "output_type": "execute_result"
    },
    {
     "data": {
      "image/png": "[encoded data removed]",
      "text/plain": [
       "<matplotlib.figure.Figure at 0x4afda20>"
      ]
     },
     "metadata": {},
     "output_type": "display_data"
    }
   ],
   "source": [
    "#FIRSTLY, we MUST insert this statement to render the plots within the notebook\n",
    "%matplotlib inline\n",
    "\n",
    "# import subplots function for plotting\n",
    "from matplotlib.pyplot import subplots\n",
    "\n",
    "\n",
    "# we use subplots function to create a single plot\n",
    "# this function returns a figure and one subplot\n",
    "fig, ax = subplots()\n",
    "\n",
    "# let's use the plot method of the axis object\n",
    "ax.plot(temp)\n",
    "\n",
    "# add gridlines to the plot\n",
    "ax.grid()\n",
    "\n",
    "# set limits for the x axis, 1440 total times values\n",
    "ax.set_xlim(0,1439)\n",
    "\n",
    "# add a title \n",
    "ax.set_title('Mean Temperature')\n"
   ]
  },
  {
   "cell_type": "code",
   "execution_count": 26,
   "metadata": {
    "collapsed": true,
    "scrolled": true
   },
   "outputs": [],
   "source": [
    "# We can save the plot using savefig function attached to the figure object\n",
    "fig.savefig('lineplot.png', dpi=300)"
   ]
  },
  {
   "cell_type": "markdown",
   "metadata": {
    "collapsed": true
   },
   "source": [
    "## Creating netCDF files in Python ##"
   ]
  },
  {
   "cell_type": "markdown",
   "metadata": {},
   "source": [
    "We present here an example on how we can create netCDF files using Python language.\n",
    "\n",
    "We will use netCDF4 library and numpy. Just for ipynb we will use %matplotlib inline in order to visualize here the plots we will generate\n",
    "\n",
    "\n",
    "Firstly, we create a file - called test_netCDF.nc, and this file will be generated based on netcd4_class data format. \n",
    "\n",
    "Next step is define the dimensions, as follows:"
   ]
  },
  {
   "cell_type": "code",
   "execution_count": 28,
   "metadata": {
    "collapsed": false,
    "scrolled": true
   },
   "outputs": [
    {
     "data": {
      "text/plain": [
       "<type 'netCDF4._netCDF4.Dimension'>: name = 'lon', size = 144"
      ]
     },
     "execution_count": 28,
     "metadata": {},
     "output_type": "execute_result"
    }
   ],
   "source": [
    "from netCDF4 import Dataset\n",
    "import numpy as np\n",
    "%matplotlib inline\n",
    "\n",
    "#reference: https://netcdf4-python.googlecode.com/svn/trunk/docs/netCDF4-module.html\n",
    "\n",
    "\n",
    "### GROUP ###\n",
    "# netCDF version 4 added support for organizing data in hierarchical groups\n",
    "#which are analagous to directories in a filesystem. Groups serve as \n",
    "#containers for variables, dimensions and attributes, \n",
    "#as well as other group\n",
    "\n",
    "root_grp = Dataset('test_netCDF.nc','w', format='NETCDF4_CLASSIC')\n",
    "root_grp.description = 'Example temperature data with netCDF'\n",
    "\n",
    "### DIMENSIONS ###\n",
    "#NetCDF defines the sizes of variables in terms of dimensions\n",
    "# before any variables can be created\n",
    "# the dimensions use must be created first\n",
    "\n",
    "#createDimension(name, size) \n",
    "#when size is 0 or None it means un unlimited dimensions\n",
    "root_grp.createDimension('time', None)\n",
    "root_grp.createDimension('lat',72)\n",
    "root_grp.createDimension('lon',144)\n"
   ]
  },
  {
   "cell_type": "markdown",
   "metadata": {},
   "source": [
    "\n",
    "Once the dimensions are created, we can explore them (just for testing)\n"
   ]
  },
  {
   "cell_type": "code",
   "execution_count": 29,
   "metadata": {
    "collapsed": false,
    "scrolled": true
   },
   "outputs": [
    {
     "name": "stdout",
     "output_type": "stream",
     "text": [
      "OrderedDict([('time', <type 'netCDF4._netCDF4.Dimension'> (unlimited): name = 'time', size = 0\n",
      "), ('lat', <type 'netCDF4._netCDF4.Dimension'>: name = 'lat', size = 72\n",
      "), ('lon', <type 'netCDF4._netCDF4.Dimension'>: name = 'lon', size = 144\n",
      ")])\n",
      "144\n"
     ]
    }
   ],
   "source": [
    "## All dimensions instances are stored in a python dictionary\n",
    "\n",
    "print root_grp.dimensions\n",
    "\n",
    "# we can obtain the current size of one dimension with len\n",
    "print len(root_grp.dimensions['lon'])\n"
   ]
  },
  {
   "cell_type": "markdown",
   "metadata": {},
   "source": [
    "\n",
    "\n",
    "Now we can create Variables\n"
   ]
  },
  {
   "cell_type": "code",
   "execution_count": 30,
   "metadata": {
    "collapsed": true
   },
   "outputs": [],
   "source": [
    "#variables\n",
    "# The createVariable method has two mandatory arguments, the variable name (a Python string), and the variable datatype.\n",
    "#createVariable(name, datatype, dimensions)\n",
    "#name - name of the variable\n",
    "#datatype - variable data type. f8 means 64-bit floating point\n",
    "#dimensions - tuple containing the variable's dimensions names\n",
    "times = root_grp.createVariable('time', 'f8', ('time',))"
   ]
  },
  {
   "cell_type": "code",
   "execution_count": 31,
   "metadata": {
    "collapsed": true
   },
   "outputs": [],
   "source": [
    "#more variables\n",
    "#'f4' (32-bit floating point),\n",
    "latitudes = root_grp.createVariable('latitude', 'f4', ('lat'))\n",
    "longitudes = root_grp.createVariable('longitude', 'f4', ('lon'))\n",
    "temp = root_grp.createVariable('temp', 'f4', ('time', 'lat', 'lon',))\n",
    "\n",
    "\n",
    "###metadata\n",
    "latitudes.units = 'degree_north'\n",
    "longitudes.units = 'degree_east'"
   ]
  },
  {
   "cell_type": "markdown",
   "metadata": {},
   "source": [
    "\n",
    "And data:\n"
   ]
  },
  {
   "cell_type": "code",
   "execution_count": 32,
   "metadata": {
    "collapsed": false
   },
   "outputs": [
    {
     "name": "stdout",
     "output_type": "stream",
     "text": [
      "[-90.  -87.5 -85.  -82.5 -80.  -77.5 -75.  -72.5 -70.  -67.5 -65.  -62.5\n",
      " -60.  -57.5 -55.  -52.5 -50.  -47.5 -45.  -42.5 -40.  -37.5 -35.  -32.5\n",
      " -30.  -27.5 -25.  -22.5 -20.  -17.5 -15.  -12.5 -10.   -7.5  -5.   -2.5\n",
      "   0.    2.5   5.    7.5  10.   12.5  15.   17.5  20.   22.5  25.   27.5\n",
      "  30.   32.5  35.   37.5  40.   42.5  45.   47.5  50.   52.5  55.   57.5\n",
      "  60.   62.5  65.   67.5  70.   72.5  75.   77.5  80.   82.5  85.   87.5]\n"
     ]
    }
   ],
   "source": [
    "# data\n",
    "\n",
    "lats = np.arange(-90, 90, 2.5)\n",
    "lons = np.arange(-180, 180, 2.5)\n",
    "latitudes[:] = lats\n",
    "longitudes[:] = lons\n",
    "print latitudes[:]"
   ]
  },
  {
   "cell_type": "code",
   "execution_count": 33,
   "metadata": {
    "collapsed": true
   },
   "outputs": [],
   "source": [
    "#generate temperature\n",
    "for i in range(5):\n",
    "    temp[i,:,:] = np.random.uniform(size=(len(lats), len(lons)))\n",
    "    \n",
    "### GLOBAL ATTRIBUTES\n",
    "\n",
    "# Global attributes are set by assigning values to Dataset instance variables\n",
    "\n",
    "dataset.description = ' script example '\n",
    "dataset.history = 'Created ' + time.ctime(time.time())\n",
    "dataset.source = 'netCDF4 tutorial @ Poli-USP'\n",
    "#close group\n",
    "root_grp.close()"
   ]
  },
  {
   "cell_type": "markdown",
   "metadata": {},
   "source": [
    "Plot generated from netCDF file using Panoply.\n",
    "\n",
    "![Plot](test_netcdf.png)"
   ]
  },
  {
   "cell_type": "markdown",
   "metadata": {},
   "source": [
    "## References ##\n",
    "\n",
    "- The material presented here was primarily taken from the Unidata NetCDF workshop notes at:\n",
    "http://www.unidata.ucar.edu/software/netcdf/workshops/2012\n",
    "\n",
    "-   https://www.arm.gov/data/docs/plan\n",
    "- https://netcdf4-python.googlecode.com/svn/trunk/docs/netCDF4-module.html"
   ]
  }
 ],
 "metadata": {
  "kernelspec": {
   "display_name": "Python 2",
   "language": "python",
   "name": "python2"
  },
  "language_info": {
   "codemirror_mode": {
    "name": "ipython",
    "version": 2
   },
   "file_extension": ".py",
   "mimetype": "text/x-python",
   "name": "python",
   "nbconvert_exporter": "python",
   "pygments_lexer": "ipython2",
   "version": "2.7.6"
  }
 },
 "nbformat": 4,
 "nbformat_minor": 0
}
