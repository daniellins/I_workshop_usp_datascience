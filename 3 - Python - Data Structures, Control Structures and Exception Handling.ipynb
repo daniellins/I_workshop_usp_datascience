{
 "cells": [
  {
   "cell_type": "markdown",
   "metadata": {},
   "source": [
    "# Data Structures, Control Structures and Exception Handling\n",
    "\n",
    "\n",
    "November 2015\n",
    "\n",
    "by Daniel Lins da Silva - daniel.lins (at) gmail.com\n",
    "\n",
    "---\n",
    "- [Data Structures](#Data-Structures)\n",
    "    - [Strings](#Strings)\n",
    "    - [Lists](#Lists)\n",
    "    - [Tuples](#Tuples)\n",
    "    - [Sets](#Sets)\n",
    "    - [Dictionaries](#Dictionaries)\n",
    "- [Control Structures](#Control-Structures)\n",
    "    - [indentation](#Indentation)\n",
    "    - [if, else, elif](#if,-else,-elif)\n",
    "    - [for loops](#for-loops)\n",
    "    - [while loops](#while-loops)\n",
    "- [Exception Handling](#Exception-Handling)\n",
    "- [References](#References)"
   ]
  },
  {
   "cell_type": "markdown",
   "metadata": {},
   "source": [
    "## Data Structures\n",
    "---\n",
    "In addition to the atomic data types, Python has a number of very powerful built-in collection classes. **Strings**, **Lists** and **Tuples** are ordered collections that are very similar in general structure but have specific differences that must be understood for them to be used properly. **Sets** and **Dictionaries** are unordered collections."
   ]
  },
  {
   "cell_type": "markdown",
   "metadata": {},
   "source": [
    "## Strings\n",
    "---\n",
    "Strings are the data type that is used for storing text messages. \n",
    "\n",
    "Since strings are considered to be sequentially ordered, they support a number of operations that can be applied to any Python sequence. Table 1 reviews these operations and the following session gives examples of their use.\n",
    "\n",
    "Table 1: Operations on Any Sequence in Python\n",
    "\n",
    " \n",
    "| Operation Name \t| Operator \t| Explanation                             |\n",
    "|----------------\t|----------\t|-----------------------------------------|\n",
    "| indexing       \t| [ ]      \t| Access an element of a sequence         |\n",
    "| concatenation  \t| +        \t| Combine sequences together              |\n",
    "| repetition     \t| *        \t| Concatenate a repeated number of times  |\n",
    "| membership     \t| in       \t| Ask whether an item is in a sequence    |\n",
    "| length         \t| len      \t| Ask the number of items in the sequence |\n",
    "| slicing        \t| [ : ]    \t| Extract a part of a sequence            |\n",
    "\n"
   ]
  },
  {
   "cell_type": "code",
   "execution_count": 109,
   "metadata": {
    "collapsed": false
   },
   "outputs": [
    {
     "name": "stdout",
     "output_type": "stream",
     "text": [
      "<type 'str'>\n"
     ]
    }
   ],
   "source": [
    "var_a = \"Puma concolor\"\n",
    "print type(var_a)"
   ]
  },
  {
   "cell_type": "code",
   "execution_count": 41,
   "metadata": {
    "collapsed": false
   },
   "outputs": [
    {
     "name": "stdout",
     "output_type": "stream",
     "text": [
      "13\n"
     ]
    }
   ],
   "source": [
    "print len(var_a)"
   ]
  },
  {
   "cell_type": "code",
   "execution_count": 42,
   "metadata": {
    "collapsed": false
   },
   "outputs": [
    {
     "name": "stdout",
     "output_type": "stream",
     "text": [
      "Puma pardoides\n",
      "Puma pardoides\n"
     ]
    }
   ],
   "source": [
    "var_b = var_a.replace(\"concolor\",\"pardoides\")\n",
    "var_c = var_b.replace(\"pardoides\",\"yagouaroundi\")\n",
    "print var_b\n",
    "print var_b"
   ]
  },
  {
   "cell_type": "markdown",
   "metadata": {},
   "source": [
    "We can index a character in a string using square brackets `[]`:"
   ]
  },
  {
   "cell_type": "code",
   "execution_count": 43,
   "metadata": {
    "collapsed": false
   },
   "outputs": [
    {
     "name": "stdout",
     "output_type": "stream",
     "text": [
      "c\n"
     ]
    }
   ],
   "source": [
    "print var_a[5] #Puma concolor"
   ]
  },
  {
   "cell_type": "markdown",
   "metadata": {},
   "source": [
    "To slice a string we can use square brackets `[]` with colon `:` :"
   ]
  },
  {
   "cell_type": "code",
   "execution_count": 44,
   "metadata": {
    "collapsed": false
   },
   "outputs": [
    {
     "name": "stdout",
     "output_type": "stream",
     "text": [
      "concol concolor or Puma\n"
     ]
    }
   ],
   "source": [
    "print var_a[5:11],var_a[5:], var_a[-2:], var_a[:4]"
   ]
  },
  {
   "cell_type": "markdown",
   "metadata": {},
   "source": [
    "We can also define the step size using the syntax `[start:end:step]` (the default value for `step` is 1, as we saw above):"
   ]
  },
  {
   "cell_type": "code",
   "execution_count": 45,
   "metadata": {
    "collapsed": false
   },
   "outputs": [
    {
     "name": "stdout",
     "output_type": "stream",
     "text": [
      "Pm oclr Pm\n"
     ]
    }
   ],
   "source": [
    "print var_a[::2], var_a[0:4:2]"
   ]
  },
  {
   "cell_type": "markdown",
   "metadata": {},
   "source": [
    "String concatenation:"
   ]
  },
  {
   "cell_type": "code",
   "execution_count": 46,
   "metadata": {
    "collapsed": false
   },
   "outputs": [
    {
     "name": "stdout",
     "output_type": "stream",
     "text": [
      "Puma concolor or Puma pardoides\n"
     ]
    }
   ],
   "source": [
    "var_concat = var_a + \" or \" + var_b\n",
    "print var_concat"
   ]
  },
  {
   "cell_type": "markdown",
   "metadata": {},
   "source": [
    "Find characters in a string:"
   ]
  },
  {
   "cell_type": "code",
   "execution_count": 114,
   "metadata": {
    "collapsed": false
   },
   "outputs": [
    {
     "name": "stdout",
     "output_type": "stream",
     "text": [
      "5\n"
     ]
    }
   ],
   "source": [
    "print var_a.find(\"concolor\")"
   ]
  },
  {
   "cell_type": "markdown",
   "metadata": {},
   "source": [
    "Split a string into substrings:"
   ]
  },
  {
   "cell_type": "code",
   "execution_count": 117,
   "metadata": {
    "collapsed": false
   },
   "outputs": [
    {
     "name": "stdout",
     "output_type": "stream",
     "text": [
      "Puma concolor\n",
      "['Puma', 'concolor']\n"
     ]
    }
   ],
   "source": [
    "print var_a\n",
    "print var_a.split(\" \")"
   ]
  },
  {
   "cell_type": "markdown",
   "metadata": {},
   "source": [
    "Python has a very rich set of functions for text processing. See http://docs.python.org/2/library/string.html for more information or use the function `help(str)`."
   ]
  },
  {
   "cell_type": "markdown",
   "metadata": {},
   "source": [
    "## Lists\n",
    "---\n",
    "Lists are very similar to strings, except that each element can be of any type.\n",
    "\n",
    "The syntax for creating lists in Python is `[...]`:"
   ]
  },
  {
   "cell_type": "code",
   "execution_count": 48,
   "metadata": {
    "collapsed": false
   },
   "outputs": [
    {
     "name": "stdout",
     "output_type": "stream",
     "text": [
      "<type 'list'>\n",
      "[1, 2, 3, 4, 5]\n"
     ]
    }
   ],
   "source": [
    "list_number = [1,2,3,4,5]\n",
    "\n",
    "print type(list_number)\n",
    "print list_number"
   ]
  },
  {
   "cell_type": "markdown",
   "metadata": {},
   "source": [
    "We can use the same slicing techniques to manipulate lists as we could use on strings:"
   ]
  },
  {
   "cell_type": "code",
   "execution_count": 49,
   "metadata": {
    "collapsed": false
   },
   "outputs": [
    {
     "name": "stdout",
     "output_type": "stream",
     "text": [
      "[1, 2, 3, 4, 5]\n",
      "[2, 3]\n",
      "[1, 3, 5]\n"
     ]
    }
   ],
   "source": [
    "print(list_number)\n",
    "\n",
    "print(list_number[1:3])\n",
    "\n",
    "print(list_number[::2])"
   ]
  },
  {
   "cell_type": "markdown",
   "metadata": {},
   "source": [
    "Note: Indexing starts at 0!"
   ]
  },
  {
   "cell_type": "code",
   "execution_count": 113,
   "metadata": {
    "collapsed": false
   },
   "outputs": [
    {
     "name": "stdout",
     "output_type": "stream",
     "text": [
      "<type 'list'> <type 'int'> <type 'float'> <type 'str'> <type 'bool'>\n",
      "[1, 2.5, 'hello', True]\n",
      "1\n"
     ]
    }
   ],
   "source": [
    "list_mixed = [1, 2.5, \"hello\", True]\n",
    "print type(list_mixed), type(list_mixed[0]), type(list_mixed[1]), type(list_mixed[2]), type(list_mixed[3])\n",
    "print list_mixed\n",
    "print list_mixed[0]"
   ]
  },
  {
   "cell_type": "markdown",
   "metadata": {},
   "source": [
    "Inserting, modifying and removing elements from lists:"
   ]
  },
  {
   "cell_type": "code",
   "execution_count": 76,
   "metadata": {
    "collapsed": false
   },
   "outputs": [
    {
     "name": "stdout",
     "output_type": "stream",
     "text": [
      "['Ana', 'Pedro', 'Maria', 'Carla']\n"
     ]
    }
   ],
   "source": [
    "# create a new empty list\n",
    "list_names = []\n",
    "\n",
    "# add an elements using `append`\n",
    "list_names.append(\"Ana\")\n",
    "list_names.append(\"Maria\")\n",
    "list_names.append(\"Carla\")\n",
    "\n",
    "# insert an element at an specific index\n",
    "list_names.insert(1, \"Pedro\")\n",
    "\n",
    "\n",
    "print list_names"
   ]
  },
  {
   "cell_type": "code",
   "execution_count": 77,
   "metadata": {
    "collapsed": false
   },
   "outputs": [
    {
     "name": "stdout",
     "output_type": "stream",
     "text": [
      "['Ana', 'Pedro', 'Daniel', 'Carla']\n",
      "['Ana', 'Carla', 'Daniel', 'Pedro']\n"
     ]
    }
   ],
   "source": [
    "# modifying a list\n",
    "list_names[2] = 'Daniel'\n",
    "print list_names\n",
    "\n",
    "list_names.sort()\n",
    "print list_names"
   ]
  },
  {
   "cell_type": "code",
   "execution_count": 78,
   "metadata": {
    "collapsed": false
   },
   "outputs": [
    {
     "name": "stdout",
     "output_type": "stream",
     "text": [
      "['Ana', 'Carla', 'Pedro']\n"
     ]
    }
   ],
   "source": [
    "# removing an element\n",
    "del list_names[2]\n",
    "print list_names"
   ]
  },
  {
   "cell_type": "markdown",
   "metadata": {},
   "source": [
    "## Tuples\n",
    "---\n",
    "Tuples are like lists, except that they cannot be modified once created, that is they are *immutable*. \n",
    "\n",
    "In Python, tuples are created using the syntax `(..., ..., ...)`, or even `..., ...`:"
   ]
  },
  {
   "cell_type": "code",
   "execution_count": 86,
   "metadata": {
    "collapsed": false
   },
   "outputs": [
    {
     "name": "stdout",
     "output_type": "stream",
     "text": [
      "<type 'tuple'> 3 (10, 40.0, 'A')\n"
     ]
    }
   ],
   "source": [
    "tuple_values = (10,40.0,\"A\")\n",
    "print type(tuple_values), len(tuple_values), tuple_values"
   ]
  },
  {
   "cell_type": "markdown",
   "metadata": {},
   "source": [
    "We can unpack a tuple by assigning it to a comma-separated list of variables:"
   ]
  },
  {
   "cell_type": "code",
   "execution_count": 84,
   "metadata": {
    "collapsed": false
   },
   "outputs": [
    {
     "name": "stdout",
     "output_type": "stream",
     "text": [
      "A\n"
     ]
    }
   ],
   "source": [
    "x,y,z = tuple_values #Unpacking\n",
    "print z"
   ]
  },
  {
   "cell_type": "code",
   "execution_count": 118,
   "metadata": {
    "collapsed": false
   },
   "outputs": [
    {
     "ename": "TypeError",
     "evalue": "'tuple' object does not support item assignment",
     "output_type": "error",
     "traceback": [
      "\u001b[1;31m---------------------------------------------------------------------------\u001b[0m",
      "\u001b[1;31mTypeError\u001b[0m                                 Traceback (most recent call last)",
      "\u001b[1;32m<ipython-input-118-3e239368eff1>\u001b[0m in \u001b[0;36m<module>\u001b[1;34m()\u001b[0m\n\u001b[1;32m----> 1\u001b[1;33m \u001b[0mtuple_values\u001b[0m\u001b[1;33m[\u001b[0m\u001b[1;36m1\u001b[0m\u001b[1;33m]\u001b[0m \u001b[1;33m=\u001b[0m \u001b[1;34m\"B\"\u001b[0m\u001b[1;33m\u001b[0m\u001b[0m\n\u001b[0m",
      "\u001b[1;31mTypeError\u001b[0m: 'tuple' object does not support item assignment"
     ]
    }
   ],
   "source": [
    "tuple_values[1] = \"B\""
   ]
  },
  {
   "cell_type": "markdown",
   "metadata": {},
   "source": [
    "## Sets\n",
    "---\n",
    "A set is an unordered collection of zero or more immutable Python data objects. Sets do not allow duplicates and are written as comma-delimited values enclosed in curly braces. The empty set is represented by `set()`. Sets are heterogeneous, and the collection can be assigned to a variable as below."
   ]
  },
  {
   "cell_type": "code",
   "execution_count": 142,
   "metadata": {
    "collapsed": false
   },
   "outputs": [
    {
     "name": "stdout",
     "output_type": "stream",
     "text": [
      "<type 'set'>\n",
      "set([])\n",
      "set(['House', 10, 12, True])\n"
     ]
    }
   ],
   "source": [
    "set_value = set()\n",
    "print type(set_value)\n",
    "print set_value\n",
    "\n",
    "set_value = {12, 10, True, \"House\"}\n",
    "print set_value"
   ]
  },
  {
   "cell_type": "markdown",
   "metadata": {},
   "source": [
    "Even though sets are not considered to be sequential, they do support a few of the familiar operations presented earlier.\n",
    "\n",
    "Sets support a number of methods that should be familiar to those who have worked with them in a mathematics setting. Table 2 provides a summary. Examples of their use follow. Note that union, intersection, issubset, and difference all have operators that can be used as well."
   ]
  },
  {
   "cell_type": "markdown",
   "metadata": {},
   "source": [
    "Table 2: Operations on a Set in Python\n",
    "\n",
    "| Method Name  \t| Use                         \t| Explanation                                                    \t|\n",
    "|--------------\t|-----------------------------\t|----------------------------------------------------------------\t|\n",
    "| union        \t| aset.union(otherset)        \t| Returns a new set with all elements from both sets             \t|\n",
    "| intersection \t| aset.intersection(otherset) \t| Returns a new set with only those elements common to both sets \t|\n",
    "| difference   \t| aset.difference(otherset)   \t| Returns a new set with all items from first set not in second  \t|\n",
    "| issubset     \t| aset.issubset(otherset)     \t| Asks whether all elements of one set are in the other          \t|\n",
    "| add          \t| aset.add(item)              \t| Adds item to the set                                           \t|\n",
    "| remove       \t| aset.remove(item)           \t| Removes item from the set                                      \t|\n",
    "| pop          \t| aset.pop()                  \t| Removes an arbitrary element from the set                      \t|\n",
    "| clear        \t| aset.clear()                \t| Removes all elements from the set                              \t|"
   ]
  },
  {
   "cell_type": "code",
   "execution_count": 149,
   "metadata": {
    "collapsed": false
   },
   "outputs": [
    {
     "name": "stdout",
     "output_type": "stream",
     "text": [
      "set([1, 2, 3, 4, 5, 6, 7, 8, 9, 10])\n",
      "set([])\n",
      "set([2])\n",
      "set([1, 3, 9, 5, 7])\n"
     ]
    }
   ],
   "source": [
    "set1 = {1,3,5,7,9}\n",
    "set2 = {2,4,6,8,10}\n",
    "print set1.union(set2)\n",
    "print set1.intersection(set2)\n",
    "\n",
    "set1.add(2)\n",
    "print set1.intersection(set2)\n",
    "print set1.difference(set2)"
   ]
  },
  {
   "cell_type": "markdown",
   "metadata": {},
   "source": [
    "## Dictionaries\n",
    "---\n",
    "Our final Python collection is an unordered structure called a **Dictionary**. Dictionaries are also like lists, except that each element is a key-value pair. The syntax for dictionaries is `{key1 : value1, ...}`:\n",
    "\n",
    "Also called *associative arrays* or *hash maps* in other languages."
   ]
  },
  {
   "cell_type": "code",
   "execution_count": 90,
   "metadata": {
    "collapsed": false
   },
   "outputs": [
    {
     "name": "stdout",
     "output_type": "stream",
     "text": [
      "{'ScientificName': 'Puma concolor', 'EventDate': '2015/10/30', 'BasisOfRecord': 'HumanObservation'}\n"
     ]
    }
   ],
   "source": [
    "import datetime as dt\n",
    "\n",
    "occurrence = {}\n",
    "\n",
    "occurrence[\"BasisOfRecord\"] = \"HumanObservation\"\n",
    "occurrence[\"ScientificName\"] = \"Puma concolor\"\n",
    "occurrence[\"EventDate\"] = dt.datetime.today().strftime(\"%Y/%m/%d\")\n",
    "\n",
    "print occurrence"
   ]
  },
  {
   "cell_type": "code",
   "execution_count": 92,
   "metadata": {
    "collapsed": false
   },
   "outputs": [
    {
     "name": "stdout",
     "output_type": "stream",
     "text": [
      "3\n",
      "<type 'dict'>\n"
     ]
    }
   ],
   "source": [
    "print len(occurrence)\n",
    "print type(occurrence)"
   ]
  },
  {
   "cell_type": "markdown",
   "metadata": {},
   "source": [
    "Inserting, modifying and removing elements from Dictionaries:"
   ]
  },
  {
   "cell_type": "code",
   "execution_count": 99,
   "metadata": {
    "collapsed": false
   },
   "outputs": [
    {
     "name": "stdout",
     "output_type": "stream",
     "text": [
      "{'team': ['Pedro', 'Daniel', 'Andre', 'Andreiwid', 'Suelane', 'Jorge'], 'name': 'Project Management Application', 'budget': {'HR': 50000, 'Hardware': 30000, 'Software': 20000}}\n"
     ]
    }
   ],
   "source": [
    "# create a new empty dictionary\n",
    "project = {}\n",
    "\n",
    "# add new entries\n",
    "project[\"name\"] = \"Name of project\"\n",
    "project[\"budget\"] = 100000\n",
    "project[\"team\"] = [\"Pedro\", \"Daniel\", \"Andre\", \"Andreiwid\", \"Suelane\", \"Jorge\"]\n",
    "project[\"StartDate\"] = dt.datetime.today().strftime(\"%Y/%m/%d\")\n",
    "\n",
    "# insert a nested element\n",
    "project[\"budget\"] = {\"HR\":50000, \"Hardware\":30000, \"Software\":20000}\n",
    "\n",
    "#modify an element\n",
    "project[\"name\"] = \"Project Management Application\"\n",
    "\n",
    "\n",
    "# remove an element\n",
    "del project[\"StartDate\"]\n",
    "\n",
    "print project"
   ]
  },
  {
   "cell_type": "markdown",
   "metadata": {},
   "source": [
    "We can also view a dictionary with a pretty format:"
   ]
  },
  {
   "cell_type": "code",
   "execution_count": 104,
   "metadata": {
    "collapsed": false
   },
   "outputs": [
    {
     "name": "stdout",
     "output_type": "stream",
     "text": [
      "{\n",
      "    \"team\": [\n",
      "        \"Pedro\", \n",
      "        \"Daniel\", \n",
      "        \"Andre\", \n",
      "        \"Andreiwid\", \n",
      "        \"Suelane\", \n",
      "        \"Jorge\"\n",
      "    ], \n",
      "    \"name\": \"Project Management Application\", \n",
      "    \"budget\": {\n",
      "        \"HR\": 50000, \n",
      "        \"Hardware\": 30000, \n",
      "        \"Software\": 20000\n",
      "    }\n",
      "}\n"
     ]
    }
   ],
   "source": [
    "import json\n",
    "print json.dumps(project,indent=4)"
   ]
  },
  {
   "cell_type": "code",
   "execution_count": 105,
   "metadata": {
    "collapsed": false
   },
   "outputs": [
    {
     "name": "stdout",
     "output_type": "stream",
     "text": [
      "{   'budget': {   'HR': 50000, 'Hardware': 30000, 'Software': 20000},\n",
      "    'name': 'Project Management Application',\n",
      "    'team': ['Pedro', 'Daniel', 'Andre', 'Andreiwid', 'Suelane', 'Jorge']}\n"
     ]
    }
   ],
   "source": [
    "import pprint\n",
    "pp = pprint.PrettyPrinter(indent=4)\n",
    "pp.pprint(project)"
   ]
  },
  {
   "cell_type": "markdown",
   "metadata": {},
   "source": [
    "When getting the value of an element, we can use a default value if the element does not exist."
   ]
  },
  {
   "cell_type": "code",
   "execution_count": 108,
   "metadata": {
    "collapsed": false
   },
   "outputs": [
    {
     "name": "stdout",
     "output_type": "stream",
     "text": [
      "5.0 2.0\n"
     ]
    }
   ],
   "source": [
    "params = {\"parameter1\" : 1.0,\n",
    "          \"parameter2\" : 2.0,\n",
    "          \"parameter3\" : 3.0,}\n",
    "\n",
    "value = params.get(\"parameter4\",5.0)\n",
    "value2 = params.get(\"parameter2\", 5.0)\n",
    "\n",
    "print value, value2"
   ]
  },
  {
   "cell_type": "markdown",
   "metadata": {},
   "source": [
    "## Control Structures\n",
    "---\n",
    "Algorithms require two important control structures: iteration and selection. Both of these are supported by Python in various forms. The programmer can choose the statement that is most useful for the given circumstance."
   ]
  },
  {
   "cell_type": "markdown",
   "metadata": {},
   "source": [
    "### Indentation\n",
    "Python programs get structured through indentation and not by the use of braces `{}` , i.e. code blocks are defined by their indentation. This principle makes it easier to read and understand other people's Python code.\n",
    "\n",
    "So, how does it work? All statements with the same distance to the right belong to the same block of code, i.e. the statements within a block line up vertically. The block ends at a line less indented or the end of the file. If a block has to be more deeply nested, it is simply indented further to the right.\n",
    "<img src=\"pythonblocks.png\">\n",
    "\n",
    "Example `if` statement in `C++`:\n",
    "\n",
    "```C\n",
    "/* C++ uses braces {} to denote the start and end of a block*/\n",
    "if( value < 0){\n",
    "    std::cout << value << std::endl;\n",
    "}\n",
    "std::cout << \"done\" << std::endl;\n",
    "```\n",
    "\n",
    "Example `if` statement in `Python`:\n",
    "\n",
    "```python\n",
    "# Python uses a colon (`:`) and the indentation to denote the start and end of a block.\n",
    "if value < 0:\n",
    "    print value\n",
    "print done\n",
    "```"
   ]
  },
  {
   "cell_type": "markdown",
   "metadata": {},
   "source": [
    "### if, else, elif\n",
    "The Python syntax for conditional execution of code uses the keywords `if`, `else` and `elif` (else if):"
   ]
  },
  {
   "cell_type": "code",
   "execution_count": 158,
   "metadata": {
    "collapsed": false
   },
   "outputs": [
    {
     "name": "stdout",
     "output_type": "stream",
     "text": [
      "value2 is True!\n",
      "value1 is NOT True!\n"
     ]
    }
   ],
   "source": [
    "value1 = False\n",
    "value2 = True\n",
    "\n",
    "# Simple if statement\n",
    "if value1:\n",
    "    print \"value1 is True!\"\n",
    "\n",
    "if value2:\n",
    "    print \"value2 is True!\"\n",
    "\n",
    "# if-else statement\n",
    "if value1:\n",
    "    print \"value1 is True!\"\n",
    "else:\n",
    "    print \"value1 is NOT True!\""
   ]
  },
  {
   "cell_type": "code",
   "execution_count": 159,
   "metadata": {
    "collapsed": false
   },
   "outputs": [
    {
     "name": "stdout",
     "output_type": "stream",
     "text": [
      "value1 is False and value2 is True!\n"
     ]
    }
   ],
   "source": [
    "# if-else-elif statement\n",
    "if value1:\n",
    "    print \"value1 is True\"\n",
    "    \n",
    "elif not value2:\n",
    "    print \"value2 is False\"\n",
    "else:\n",
    "    print \"value1 is False and value2 is True!\""
   ]
  },
  {
   "cell_type": "code",
   "execution_count": 160,
   "metadata": {
    "collapsed": false
   },
   "outputs": [
    {
     "name": "stdout",
     "output_type": "stream",
     "text": [
      "value1 and value2 are True!\n"
     ]
    }
   ],
   "source": [
    "#if nested statement\n",
    "value1 = value2 = True\n",
    "if value1:\n",
    "    if value2:\n",
    "        print \"value1 and value2 are True!\""
   ]
  },
  {
   "cell_type": "code",
   "execution_count": 163,
   "metadata": {
    "collapsed": false
   },
   "outputs": [
    {
     "name": "stdout",
     "output_type": "stream",
     "text": [
      "Inside the if statement\n",
      "Still inside the if statement\n",
      "Outside the if statement\n"
     ]
    }
   ],
   "source": [
    "value1 = True\n",
    "\n",
    "if value1:\n",
    "    print \"Inside the if statement\"\n",
    "    print \"Still inside the if statement\"\n",
    "print \"Outside the if statement\""
   ]
  },
  {
   "cell_type": "markdown",
   "metadata": {},
   "source": [
    "Another option is using the ternary expression:"
   ]
  },
  {
   "cell_type": "code",
   "execution_count": 165,
   "metadata": {
    "collapsed": false
   },
   "outputs": [
    {
     "name": "stdout",
     "output_type": "stream",
     "text": [
      "go walking\n"
     ]
    }
   ],
   "source": [
    "tax = 100\n",
    "\n",
    "action = 'go by car' if tax < 50 else 'go walking' #one-liner\n",
    "\n",
    "print action"
   ]
  },
  {
   "cell_type": "markdown",
   "metadata": {},
   "source": [
    "### for loops\n",
    "the for statement can be used in conjunction with many of the Python collections. The for statement can be used to iterate over the members of a collection, so long as the collection is a sequence."
   ]
  },
  {
   "cell_type": "code",
   "execution_count": 28,
   "metadata": {
    "collapsed": false
   },
   "outputs": [
    {
     "name": "stdout",
     "output_type": "stream",
     "text": [
      "1\n",
      "2\n",
      "3\n",
      "4\n",
      "5\n"
     ]
    }
   ],
   "source": [
    "list_item = [1,2,3,4,5]\n",
    "\n",
    "for item in list_item:\n",
    "    print item"
   ]
  },
  {
   "cell_type": "code",
   "execution_count": 33,
   "metadata": {
    "collapsed": false
   },
   "outputs": [
    {
     "name": "stdout",
     "output_type": "stream",
     "text": [
      "ScientificName --> Puma concolor\n",
      "EventDate --> 2015/10/31\n",
      "BasisOfRecord --> HumanObservation\n"
     ]
    }
   ],
   "source": [
    "import datetime as dt\n",
    "\n",
    "occurrence = {}\n",
    "occurrence[\"BasisOfRecord\"] = \"HumanObservation\"\n",
    "occurrence[\"ScientificName\"] = \"Puma concolor\"\n",
    "occurrence[\"EventDate\"] = dt.datetime.today().strftime(\"%Y/%m/%d\")\n",
    "\n",
    "for k,v in occurrence.items():\n",
    "    print k, \"-->\", v"
   ]
  },
  {
   "cell_type": "markdown",
   "metadata": {},
   "source": [
    "A common use of the for statement is to implement definite iteration over a range of values."
   ]
  },
  {
   "cell_type": "code",
   "execution_count": 171,
   "metadata": {
    "collapsed": false
   },
   "outputs": [
    {
     "name": "stdout",
     "output_type": "stream",
     "text": [
      "0\n",
      "1\n",
      "2\n",
      "3\n",
      "4\n"
     ]
    }
   ],
   "source": [
    "# The range function will return a list object representing the sequence 0,1,2,3,4.\n",
    "for item in range(5):\n",
    "    print item"
   ]
  },
  {
   "cell_type": "markdown",
   "metadata": {},
   "source": [
    "The other very useful version of this iteration structure is used to process each character of a string. The following code fragment iterates over a list of strings and for each string processes each character by appending it to a list. The result is a list of all the letters in all of the words."
   ]
  },
  {
   "cell_type": "code",
   "execution_count": 172,
   "metadata": {
    "collapsed": false
   },
   "outputs": [
    {
     "name": "stdout",
     "output_type": "stream",
     "text": [
      "['c', 'a', 't', 'd', 'o', 'g', 'r', 'a', 'b', 'b', 'i', 't']\n"
     ]
    }
   ],
   "source": [
    "wordlist = ['cat','dog','rabbit']\n",
    "letterlist = [ ]\n",
    "for aword in wordlist:\n",
    "    for aletter in aword:\n",
    "        letterlist.append(aletter)\n",
    "print(letterlist)"
   ]
  },
  {
   "cell_type": "markdown",
   "metadata": {},
   "source": [
    "### while loops\n",
    " The while statement repeats a body of code as long as your condition is `True`. "
   ]
  },
  {
   "cell_type": "code",
   "execution_count": 174,
   "metadata": {
    "collapsed": false
   },
   "outputs": [
    {
     "name": "stdout",
     "output_type": "stream",
     "text": [
      "Hello, world\n",
      "Hello, world\n",
      "Hello, world\n",
      "Hello, world\n",
      "Hello, world\n"
     ]
    }
   ],
   "source": [
    "counter = 1\n",
    "while counter <= 5:\n",
    "    print(\"Hello, world\")\n",
    "    counter = counter + 1"
   ]
  },
  {
   "cell_type": "code",
   "execution_count": 6,
   "metadata": {
    "collapsed": false
   },
   "outputs": [
    {
     "name": "stdout",
     "output_type": "stream",
     "text": [
      "1\n",
      "2\n",
      "3\n",
      "4\n",
      "5\n",
      "6\n",
      "Job Done!\n"
     ]
    }
   ],
   "source": [
    "done = False\n",
    "step  = 1\n",
    "while step <= 10 and not done:\n",
    "    print step\n",
    "    if step > 5:\n",
    "        done = True\n",
    "        print \"Job Done!\"\n",
    "    step = step + 1"
   ]
  },
  {
   "cell_type": "markdown",
   "metadata": {},
   "source": [
    "## Exception Handling\n",
    "An exception is an error that happens during the execution of a program. Error handling is generally resolved by saving the state of execution at the moment the error occurred and interrupting the normal flow of the program to execute a special function or piece of code, which is known as the exception handler. Depending on the kind of error (\"division by zero\", \"file open error\" and so on) which had occurred, the error handler can \"fix\" the problem and the program can be continued afterwards with the previously saved data.\n",
    "\n",
    "Exceptions handling in `Python` is very similar to `Java`. The code, which harbours the risk of an exception, is embedded in a try block. But whereas in Java exceptions are caught by `catch` clauses, we have statements introduced by an `except` keyword in Python."
   ]
  },
  {
   "cell_type": "code",
   "execution_count": 23,
   "metadata": {
    "collapsed": false
   },
   "outputs": [
    {
     "ename": "ValueError",
     "evalue": "could not convert string to float: ",
     "output_type": "error",
     "traceback": [
      "\u001b[1;31m---------------------------------------------------------------------------\u001b[0m",
      "\u001b[1;31mValueError\u001b[0m                                Traceback (most recent call last)",
      "\u001b[1;32m<ipython-input-23-264f8c81a676>\u001b[0m in \u001b[0;36m<module>\u001b[1;34m()\u001b[0m\n\u001b[0;32m      1\u001b[0m \u001b[0mnumber\u001b[0m \u001b[1;33m=\u001b[0m \u001b[1;34m\"\"\u001b[0m\u001b[1;33m\u001b[0m\u001b[0m\n\u001b[1;32m----> 2\u001b[1;33m \u001b[1;32mprint\u001b[0m \u001b[0mfloat\u001b[0m\u001b[1;33m(\u001b[0m\u001b[0mnumber\u001b[0m\u001b[1;33m)\u001b[0m\u001b[1;33m\u001b[0m\u001b[0m\n\u001b[0m",
      "\u001b[1;31mValueError\u001b[0m: could not convert string to float: "
     ]
    }
   ],
   "source": [
    "number = \"\"\n",
    "print float(number)"
   ]
  },
  {
   "cell_type": "code",
   "execution_count": 24,
   "metadata": {
    "collapsed": false
   },
   "outputs": [
    {
     "name": "stdout",
     "output_type": "stream",
     "text": [
      "could not convert string to float: \n",
      "Do something!\n"
     ]
    }
   ],
   "source": [
    "try:\n",
    "    print float(number)\n",
    "except(ValueError, TypeError), e:\n",
    "    print e\n",
    "    print \"Do something!\"\n",
    "    "
   ]
  },
  {
   "cell_type": "markdown",
   "metadata": {},
   "source": [
    " A try statement may have more than one except clause for different exceptions. But at most one except clause will be executed. "
   ]
  },
  {
   "cell_type": "code",
   "execution_count": 25,
   "metadata": {
    "collapsed": false
   },
   "outputs": [
    {
     "name": "stdout",
     "output_type": "stream",
     "text": [
      "1.0\n"
     ]
    }
   ],
   "source": [
    "values = [1,2,3]\n",
    "try:\n",
    "    print float(values)\n",
    "except ValueError:\n",
    "    print \"Error\"\n",
    "except TypeError:\n",
    "    print float(values[0])"
   ]
  },
  {
   "cell_type": "markdown",
   "metadata": {},
   "source": [
    "So far the try statement had always been paired with except clauses. But there is another way to use it as well. The try statement can be followed by a finally clause. Finally clauses are called clean-up or termination clauses, because they must be executed under all circumstances."
   ]
  },
  {
   "cell_type": "code",
   "execution_count": 1,
   "metadata": {
    "collapsed": false
   },
   "outputs": [
    {
     "name": "stdout",
     "output_type": "stream",
     "text": [
      "Your number: 10\n",
      "There may or may not have been an exception.\n",
      "('The inverse: ', 0.1)\n"
     ]
    }
   ],
   "source": [
    "try:\n",
    "    x = float(input(\"Your number: \"))\n",
    "    inverse = 1.0 / x\n",
    "finally:\n",
    "    print(\"There may or may not have been an exception.\")\n",
    "print(\"The inverse: \", inverse)"
   ]
  },
  {
   "cell_type": "markdown",
   "metadata": {},
   "source": [
    "## References\n",
    "---\n",
    "- Python Tutorial: https://docs.python.org/2/tutorial/index.html\n",
    "- Problem Solving with Algorithms and Data Structures (By Brad Miller and David Ranum, Luther College): http://interactivepython.org/runestone/static/pythonds/index.html\n",
    "- Introduction to Python for Data Analysis (University of Colorado Computational Science and Engineering): https://github.com/ResearchComputing/Meetup-Fall-2013\n",
    "- Lectures on scientific computing with Python (Robert Johansson): https://github.com/jrjohansson/scientific-python-lectures"
   ]
  },
  {
   "cell_type": "markdown",
   "metadata": {},
   "source": [
    "## Next Lecture\n",
    "In the next lecture we will see functions and classes in Python."
   ]
  }
 ],
 "metadata": {
  "kernelspec": {
   "display_name": "Python 2",
   "language": "python",
   "name": "python2"
  },
  "language_info": {
   "codemirror_mode": {
    "name": "ipython",
    "version": 2
   },
   "file_extension": ".py",
   "mimetype": "text/x-python",
   "name": "python",
   "nbconvert_exporter": "python",
   "pygments_lexer": "ipython2",
   "version": "2.7.10"
  }
 },
 "nbformat": 4,
 "nbformat_minor": 0
}
